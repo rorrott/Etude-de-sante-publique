{
 "cells": [
  {
   "cell_type": "markdown",
   "metadata": {},
   "source": [
    " <h1><center>Projet nº 3 Faim dans le Monde 2013</center></h1>"
   ]
  },
  {
   "cell_type": "markdown",
   "metadata": {},
   "source": [
    "#### Introduction :\n",
    "- L’étape préliminaire de cette étude sera donc d’établir un “état de l’art” des recherches déjà publiées, mais également de mener une étude statistique destinée à orienter les recherches vers des pays particuliers, et de mettre en lumière différentes causes de la faim."
   ]
  },
  {
   "cell_type": "markdown",
   "metadata": {},
   "source": [
    "##### Data source :\n",
    "- Les données utilisées pour cette étude ont été télechargées dans le site de la Food and Agriculture Organization of the United Nations (FAO)."
   ]
  },
  {
   "cell_type": "markdown",
   "metadata": {},
   "source": [
    "#### Data wrangling\n",
    "\n",
    "###### Les données ont besoin d'être nettoyées dans un format adéquat pour  l'analyse.\n",
    "###### On va importer les librairies dont on a besoin."
   ]
  },
  {
   "cell_type": "code",
   "execution_count": 1,
   "metadata": {},
   "outputs": [],
   "source": [
    "import pandas as pd # pouvoir nettoyer les données\n",
    "import numpy as np # créer des arrays\n",
    "pd.set_option('display.max_row', 1000)\n",
    "pd.set_option('display.max_columns', 1000)"
   ]
  },
  {
   "cell_type": "markdown",
   "metadata": {},
   "source": [
    "##### On va télécharger avec la librairie pandas les fichiers dont on a besoin."
   ]
  },
  {
   "cell_type": "code",
   "execution_count": 2,
   "metadata": {},
   "outputs": [],
   "source": [
    "df_population = pd.read_csv('fr_population.csv')\n",
    "df_vegetal = pd.read_csv('fr_vegetaux.csv')\n",
    "df_animal = pd.read_csv('fr_animaux.csv')\n",
    "df_cereal = pd.read_csv('fr_cereales.csv')\n",
    "df_sous_alimentation = pd.read_csv('fr_sousalimentation.csv')"
   ]
  },
  {
   "cell_type": "code",
   "execution_count": 3,
   "metadata": {
    "scrolled": false
   },
   "outputs": [
    {
     "data": {
      "text/html": [
       "<div>\n",
       "<style scoped>\n",
       "    .dataframe tbody tr th:only-of-type {\n",
       "        vertical-align: middle;\n",
       "    }\n",
       "\n",
       "    .dataframe tbody tr th {\n",
       "        vertical-align: top;\n",
       "    }\n",
       "\n",
       "    .dataframe thead th {\n",
       "        text-align: right;\n",
       "    }\n",
       "</style>\n",
       "<table border=\"1\" class=\"dataframe\">\n",
       "  <thead>\n",
       "    <tr style=\"text-align: right;\">\n",
       "      <th></th>\n",
       "      <th>Code Domaine</th>\n",
       "      <th>Domaine</th>\n",
       "      <th>Code zone</th>\n",
       "      <th>Zone</th>\n",
       "      <th>Code Élément</th>\n",
       "      <th>Élément</th>\n",
       "      <th>Code Produit</th>\n",
       "      <th>Produit</th>\n",
       "      <th>Code année</th>\n",
       "      <th>Année</th>\n",
       "      <th>Unité</th>\n",
       "      <th>Valeur</th>\n",
       "      <th>Symbole</th>\n",
       "      <th>Description du Symbole</th>\n",
       "    </tr>\n",
       "  </thead>\n",
       "  <tbody>\n",
       "    <tr>\n",
       "      <th>0</th>\n",
       "      <td>FBSH</td>\n",
       "      <td>Bilans Alimentaire (Ancienne méthodologie et p...</td>\n",
       "      <td>2</td>\n",
       "      <td>Afghanistan</td>\n",
       "      <td>511</td>\n",
       "      <td>Population totale</td>\n",
       "      <td>2501</td>\n",
       "      <td>Population</td>\n",
       "      <td>2013</td>\n",
       "      <td>2013</td>\n",
       "      <td>1000 personnes</td>\n",
       "      <td>30552</td>\n",
       "      <td>NaN</td>\n",
       "      <td>Donnée officielle</td>\n",
       "    </tr>\n",
       "    <tr>\n",
       "      <th>1</th>\n",
       "      <td>FBSH</td>\n",
       "      <td>Bilans Alimentaire (Ancienne méthodologie et p...</td>\n",
       "      <td>202</td>\n",
       "      <td>Afrique du Sud</td>\n",
       "      <td>511</td>\n",
       "      <td>Population totale</td>\n",
       "      <td>2501</td>\n",
       "      <td>Population</td>\n",
       "      <td>2013</td>\n",
       "      <td>2013</td>\n",
       "      <td>1000 personnes</td>\n",
       "      <td>52776</td>\n",
       "      <td>NaN</td>\n",
       "      <td>Donnée officielle</td>\n",
       "    </tr>\n",
       "  </tbody>\n",
       "</table>\n",
       "</div>"
      ],
      "text/plain": [
       "  Code Domaine                                            Domaine  Code zone  \\\n",
       "0         FBSH  Bilans Alimentaire (Ancienne méthodologie et p...          2   \n",
       "1         FBSH  Bilans Alimentaire (Ancienne méthodologie et p...        202   \n",
       "\n",
       "             Zone  Code Élément            Élément  Code Produit     Produit  \\\n",
       "0     Afghanistan           511  Population totale          2501  Population   \n",
       "1  Afrique du Sud           511  Population totale          2501  Population   \n",
       "\n",
       "   Code année  Année           Unité  Valeur Symbole Description du Symbole  \n",
       "0        2013   2013  1000 personnes   30552     NaN      Donnée officielle  \n",
       "1        2013   2013  1000 personnes   52776     NaN      Donnée officielle  "
      ]
     },
     "execution_count": 3,
     "metadata": {},
     "output_type": "execute_result"
    }
   ],
   "source": [
    "df_population.head(2)"
   ]
  },
  {
   "cell_type": "code",
   "execution_count": 4,
   "metadata": {},
   "outputs": [
    {
     "data": {
      "text/plain": [
       "array([nan, 'A'], dtype=object)"
      ]
     },
     "execution_count": 4,
     "metadata": {},
     "output_type": "execute_result"
    }
   ],
   "source": [
    "df_population['Symbole'].unique() # on regarde la colonne 'symbole'"
   ]
  },
  {
   "cell_type": "code",
   "execution_count": 5,
   "metadata": {},
   "outputs": [
    {
     "data": {
      "text/html": [
       "<div>\n",
       "<style scoped>\n",
       "    .dataframe tbody tr th:only-of-type {\n",
       "        vertical-align: middle;\n",
       "    }\n",
       "\n",
       "    .dataframe tbody tr th {\n",
       "        vertical-align: top;\n",
       "    }\n",
       "\n",
       "    .dataframe thead th {\n",
       "        text-align: right;\n",
       "    }\n",
       "</style>\n",
       "<table border=\"1\" class=\"dataframe\">\n",
       "  <thead>\n",
       "    <tr style=\"text-align: right;\">\n",
       "      <th></th>\n",
       "      <th>Code Domaine</th>\n",
       "      <th>Domaine</th>\n",
       "      <th>Code zone</th>\n",
       "      <th>Zone</th>\n",
       "      <th>Code Élément</th>\n",
       "      <th>Élément</th>\n",
       "      <th>Code Produit</th>\n",
       "      <th>Produit</th>\n",
       "      <th>Code année</th>\n",
       "      <th>Année</th>\n",
       "      <th>Unité</th>\n",
       "      <th>Valeur</th>\n",
       "      <th>Symbole</th>\n",
       "      <th>Description du Symbole</th>\n",
       "    </tr>\n",
       "  </thead>\n",
       "  <tbody>\n",
       "    <tr>\n",
       "      <th>33</th>\n",
       "      <td>FBSH</td>\n",
       "      <td>Bilans Alimentaire (Ancienne méthodologie et p...</td>\n",
       "      <td>351</td>\n",
       "      <td>Chine</td>\n",
       "      <td>511</td>\n",
       "      <td>Population totale</td>\n",
       "      <td>2501</td>\n",
       "      <td>Population</td>\n",
       "      <td>2013</td>\n",
       "      <td>2013</td>\n",
       "      <td>1000 personnes</td>\n",
       "      <td>1416667</td>\n",
       "      <td>A</td>\n",
       "      <td>Agrégat, peut inclure des données officielles,...</td>\n",
       "    </tr>\n",
       "  </tbody>\n",
       "</table>\n",
       "</div>"
      ],
      "text/plain": [
       "   Code Domaine                                            Domaine  Code zone  \\\n",
       "33         FBSH  Bilans Alimentaire (Ancienne méthodologie et p...        351   \n",
       "\n",
       "     Zone  Code Élément            Élément  Code Produit     Produit  \\\n",
       "33  Chine           511  Population totale          2501  Population   \n",
       "\n",
       "    Code année  Année           Unité   Valeur Symbole  \\\n",
       "33        2013   2013  1000 personnes  1416667       A   \n",
       "\n",
       "                               Description du Symbole  \n",
       "33  Agrégat, peut inclure des données officielles,...  "
      ]
     },
     "execution_count": 5,
     "metadata": {},
     "output_type": "execute_result"
    }
   ],
   "source": [
    "df_population[df_population['Symbole'] == 'A'] # On cherche la lettre A dans la colonne 'Symbole'"
   ]
  },
  {
   "cell_type": "code",
   "execution_count": 6,
   "metadata": {},
   "outputs": [
    {
     "data": {
      "text/html": [
       "<div>\n",
       "<style scoped>\n",
       "    .dataframe tbody tr th:only-of-type {\n",
       "        vertical-align: middle;\n",
       "    }\n",
       "\n",
       "    .dataframe tbody tr th {\n",
       "        vertical-align: top;\n",
       "    }\n",
       "\n",
       "    .dataframe thead th {\n",
       "        text-align: right;\n",
       "    }\n",
       "</style>\n",
       "<table border=\"1\" class=\"dataframe\">\n",
       "  <thead>\n",
       "    <tr style=\"text-align: right;\">\n",
       "      <th></th>\n",
       "      <th>Zone</th>\n",
       "      <th>Année</th>\n",
       "      <th>Code zone</th>\n",
       "      <th>Valeur</th>\n",
       "    </tr>\n",
       "  </thead>\n",
       "  <tbody>\n",
       "    <tr>\n",
       "      <th>0</th>\n",
       "      <td>Afghanistan</td>\n",
       "      <td>2013</td>\n",
       "      <td>2</td>\n",
       "      <td>30552</td>\n",
       "    </tr>\n",
       "    <tr>\n",
       "      <th>1</th>\n",
       "      <td>Afrique du Sud</td>\n",
       "      <td>2013</td>\n",
       "      <td>202</td>\n",
       "      <td>52776</td>\n",
       "    </tr>\n",
       "    <tr>\n",
       "      <th>2</th>\n",
       "      <td>Albanie</td>\n",
       "      <td>2013</td>\n",
       "      <td>3</td>\n",
       "      <td>3173</td>\n",
       "    </tr>\n",
       "    <tr>\n",
       "      <th>3</th>\n",
       "      <td>Algérie</td>\n",
       "      <td>2013</td>\n",
       "      <td>4</td>\n",
       "      <td>39208</td>\n",
       "    </tr>\n",
       "    <tr>\n",
       "      <th>4</th>\n",
       "      <td>Allemagne</td>\n",
       "      <td>2013</td>\n",
       "      <td>79</td>\n",
       "      <td>82727</td>\n",
       "    </tr>\n",
       "  </tbody>\n",
       "</table>\n",
       "</div>"
      ],
      "text/plain": [
       "             Zone  Année  Code zone  Valeur\n",
       "0     Afghanistan   2013          2   30552\n",
       "1  Afrique du Sud   2013        202   52776\n",
       "2         Albanie   2013          3    3173\n",
       "3         Algérie   2013          4   39208\n",
       "4       Allemagne   2013         79   82727"
      ]
     },
     "execution_count": 6,
     "metadata": {},
     "output_type": "execute_result"
    }
   ],
   "source": [
    "#On prend les colonnes dont on a besoin\n",
    "population = df_population[['Zone', 'Année', 'Code zone', 'Valeur']] \n",
    "population.head()"
   ]
  },
  {
   "cell_type": "code",
   "execution_count": 7,
   "metadata": {},
   "outputs": [],
   "source": [
    "#C'est une fonction pour trouver les doublons et les valeurs min et max\n",
    "def df_col_attr(df):\n",
    "    print(\"##### DUPLICATES ######\\n\")\n",
    "    print(\"Number of duplicated rows:\", sum(df.duplicated()),\"\\n\")\n",
    "    \n",
    "    print(\"##### MIN / MAX - VALUES ######\\n\")\n",
    "    for x in df.columns:\n",
    "        print(x, f\"- min: {df[x].min()}\", f\"- max: {df[x].max()}\")\n",
    "        \n",
    "    print(\"\\n##### YEAR SPAN OF COLUMN #####\\n\")\n",
    "    \n",
    "    for x in df.columns:\n",
    "        df_year = df.dropna(subset = [x])\n",
    "        print(x, f\"- Min: {df_year.Année.min()}\", f\" - Max: {df_year.Année.max()}\")\n",
    "        \n",
    "    print(\"\\n##### UNIQUE - VALUES ######\\n\")\n",
    "    for x in df.columns:\n",
    "        print(x, f\"- Number of entries: {df[x].count()} - Number of unique values: {df[x].nunique()}\")"
   ]
  },
  {
   "cell_type": "code",
   "execution_count": 8,
   "metadata": {},
   "outputs": [
    {
     "name": "stdout",
     "output_type": "stream",
     "text": [
      "##### DUPLICATES ######\n",
      "\n",
      "Number of duplicated rows: 0 \n",
      "\n",
      "##### MIN / MAX - VALUES ######\n",
      "\n",
      "Zone - min: Afghanistan - max: Îles Salomon\n",
      "Année - min: 2013 - max: 2013\n",
      "Code zone - min: 1 - max: 351\n",
      "Valeur - min: 54 - max: 1416667\n",
      "\n",
      "##### YEAR SPAN OF COLUMN #####\n",
      "\n",
      "Zone - Min: 2013  - Max: 2013\n",
      "Année - Min: 2013  - Max: 2013\n",
      "Code zone - Min: 2013  - Max: 2013\n",
      "Valeur - Min: 2013  - Max: 2013\n",
      "\n",
      "##### UNIQUE - VALUES ######\n",
      "\n",
      "Zone - Number of entries: 175 - Number of unique values: 175\n",
      "Année - Number of entries: 175 - Number of unique values: 1\n",
      "Code zone - Number of entries: 175 - Number of unique values: 175\n",
      "Valeur - Number of entries: 175 - Number of unique values: 175\n"
     ]
    }
   ],
   "source": [
    "df_col_attr(population)"
   ]
  },
  {
   "cell_type": "code",
   "execution_count": 9,
   "metadata": {},
   "outputs": [],
   "source": [
    "#C'est une fonction pour trouver les valeurs manquantes\n",
    "def show_n_missing(df, column):\n",
    "    missing = []\n",
    "    for x in list((df[\"Zone\"]).unique()):\n",
    "        n_missing = sum(df[df[\"Zone\"] == x][column].isnull())\n",
    "        \n",
    "        if n_missing > 0:\n",
    "            missing.append(x)\n",
    "            print(x, \"-\", n_missing)\n",
    "        \n",
    "    return missing"
   ]
  },
  {
   "cell_type": "code",
   "execution_count": 10,
   "metadata": {},
   "outputs": [],
   "source": [
    "show_n_missing(population, \"Valeur\");"
   ]
  },
  {
   "cell_type": "markdown",
   "metadata": {},
   "source": [
    "- On observe une valeur max de 1416667. \n",
    "- Il n'y a pas de doublons.\n",
    "- Il n'y a pas de valeurs manquantes.\n",
    "- La lettre A dans la colonne 'Symbole' correspond á : Agrégat, peut inclure des données officielles."
   ]
  },
  {
   "cell_type": "code",
   "execution_count": 11,
   "metadata": {},
   "outputs": [
    {
     "data": {
      "text/html": [
       "<div>\n",
       "<style scoped>\n",
       "    .dataframe tbody tr th:only-of-type {\n",
       "        vertical-align: middle;\n",
       "    }\n",
       "\n",
       "    .dataframe tbody tr th {\n",
       "        vertical-align: top;\n",
       "    }\n",
       "\n",
       "    .dataframe thead th {\n",
       "        text-align: right;\n",
       "    }\n",
       "</style>\n",
       "<table border=\"1\" class=\"dataframe\">\n",
       "  <thead>\n",
       "    <tr style=\"text-align: right;\">\n",
       "      <th></th>\n",
       "      <th>Code Domaine</th>\n",
       "      <th>Domaine</th>\n",
       "      <th>Code zone</th>\n",
       "      <th>Zone</th>\n",
       "      <th>Code Élément</th>\n",
       "      <th>Élément</th>\n",
       "      <th>Code Produit</th>\n",
       "      <th>Produit</th>\n",
       "      <th>Code année</th>\n",
       "      <th>Année</th>\n",
       "      <th>Unité</th>\n",
       "      <th>Valeur</th>\n",
       "      <th>Symbole</th>\n",
       "      <th>Description du Symbole</th>\n",
       "    </tr>\n",
       "  </thead>\n",
       "  <tbody>\n",
       "    <tr>\n",
       "      <th>0</th>\n",
       "      <td>FBSH</td>\n",
       "      <td>Bilans Alimentaire (Ancienne méthodologie et p...</td>\n",
       "      <td>2</td>\n",
       "      <td>Afghanistan</td>\n",
       "      <td>5511</td>\n",
       "      <td>Production</td>\n",
       "      <td>2511</td>\n",
       "      <td>Blé</td>\n",
       "      <td>2013</td>\n",
       "      <td>2013</td>\n",
       "      <td>Milliers de tonnes</td>\n",
       "      <td>5169.0</td>\n",
       "      <td>S</td>\n",
       "      <td>Données standardisées</td>\n",
       "    </tr>\n",
       "    <tr>\n",
       "      <th>1</th>\n",
       "      <td>FBSH</td>\n",
       "      <td>Bilans Alimentaire (Ancienne méthodologie et p...</td>\n",
       "      <td>2</td>\n",
       "      <td>Afghanistan</td>\n",
       "      <td>5611</td>\n",
       "      <td>Importations - Quantité</td>\n",
       "      <td>2511</td>\n",
       "      <td>Blé</td>\n",
       "      <td>2013</td>\n",
       "      <td>2013</td>\n",
       "      <td>Milliers de tonnes</td>\n",
       "      <td>1173.0</td>\n",
       "      <td>S</td>\n",
       "      <td>Données standardisées</td>\n",
       "    </tr>\n",
       "    <tr>\n",
       "      <th>2</th>\n",
       "      <td>FBSH</td>\n",
       "      <td>Bilans Alimentaire (Ancienne méthodologie et p...</td>\n",
       "      <td>2</td>\n",
       "      <td>Afghanistan</td>\n",
       "      <td>5072</td>\n",
       "      <td>Variation de stock</td>\n",
       "      <td>2511</td>\n",
       "      <td>Blé</td>\n",
       "      <td>2013</td>\n",
       "      <td>2013</td>\n",
       "      <td>Milliers de tonnes</td>\n",
       "      <td>-350.0</td>\n",
       "      <td>S</td>\n",
       "      <td>Données standardisées</td>\n",
       "    </tr>\n",
       "    <tr>\n",
       "      <th>3</th>\n",
       "      <td>FBSH</td>\n",
       "      <td>Bilans Alimentaire (Ancienne méthodologie et p...</td>\n",
       "      <td>2</td>\n",
       "      <td>Afghanistan</td>\n",
       "      <td>5301</td>\n",
       "      <td>Disponibilité intérieure</td>\n",
       "      <td>2511</td>\n",
       "      <td>Blé</td>\n",
       "      <td>2013</td>\n",
       "      <td>2013</td>\n",
       "      <td>Milliers de tonnes</td>\n",
       "      <td>5992.0</td>\n",
       "      <td>S</td>\n",
       "      <td>Données standardisées</td>\n",
       "    </tr>\n",
       "    <tr>\n",
       "      <th>4</th>\n",
       "      <td>FBSH</td>\n",
       "      <td>Bilans Alimentaire (Ancienne méthodologie et p...</td>\n",
       "      <td>2</td>\n",
       "      <td>Afghanistan</td>\n",
       "      <td>5527</td>\n",
       "      <td>Semences</td>\n",
       "      <td>2511</td>\n",
       "      <td>Blé</td>\n",
       "      <td>2013</td>\n",
       "      <td>2013</td>\n",
       "      <td>Milliers de tonnes</td>\n",
       "      <td>322.0</td>\n",
       "      <td>S</td>\n",
       "      <td>Données standardisées</td>\n",
       "    </tr>\n",
       "  </tbody>\n",
       "</table>\n",
       "</div>"
      ],
      "text/plain": [
       "  Code Domaine                                            Domaine  Code zone  \\\n",
       "0         FBSH  Bilans Alimentaire (Ancienne méthodologie et p...          2   \n",
       "1         FBSH  Bilans Alimentaire (Ancienne méthodologie et p...          2   \n",
       "2         FBSH  Bilans Alimentaire (Ancienne méthodologie et p...          2   \n",
       "3         FBSH  Bilans Alimentaire (Ancienne méthodologie et p...          2   \n",
       "4         FBSH  Bilans Alimentaire (Ancienne méthodologie et p...          2   \n",
       "\n",
       "          Zone  Code Élément                   Élément  Code Produit Produit  \\\n",
       "0  Afghanistan          5511                Production          2511     Blé   \n",
       "1  Afghanistan          5611   Importations - Quantité          2511     Blé   \n",
       "2  Afghanistan          5072        Variation de stock          2511     Blé   \n",
       "3  Afghanistan          5301  Disponibilité intérieure          2511     Blé   \n",
       "4  Afghanistan          5527                  Semences          2511     Blé   \n",
       "\n",
       "   Code année  Année               Unité  Valeur Symbole  \\\n",
       "0        2013   2013  Milliers de tonnes  5169.0       S   \n",
       "1        2013   2013  Milliers de tonnes  1173.0       S   \n",
       "2        2013   2013  Milliers de tonnes  -350.0       S   \n",
       "3        2013   2013  Milliers de tonnes  5992.0       S   \n",
       "4        2013   2013  Milliers de tonnes   322.0       S   \n",
       "\n",
       "  Description du Symbole  \n",
       "0  Données standardisées  \n",
       "1  Données standardisées  \n",
       "2  Données standardisées  \n",
       "3  Données standardisées  \n",
       "4  Données standardisées  "
      ]
     },
     "execution_count": 11,
     "metadata": {},
     "output_type": "execute_result"
    }
   ],
   "source": [
    "df_vegetal.head()"
   ]
  },
  {
   "cell_type": "code",
   "execution_count": 12,
   "metadata": {},
   "outputs": [
    {
     "name": "stdout",
     "output_type": "stream",
     "text": [
      "##### DUPLICATES ######\n",
      "\n",
      "Number of duplicated rows: 0 \n",
      "\n",
      "##### MIN / MAX - VALUES ######\n",
      "\n",
      "Code Domaine - min: FBSH - max: FBSH\n",
      "Domaine - min: Bilans Alimentaire (Ancienne méthodologie et population) - max: Bilans Alimentaire (Ancienne méthodologie et population)\n",
      "Code zone - min: 1 - max: 351\n",
      "Zone - min: Afghanistan - max: Îles Salomon\n",
      "Code Élément - min: 645 - max: 5911\n",
      "Élément - min: Aliments pour animaux - max: Variation de stock\n",
      "Code Produit - min: 2511 - max: 2899\n",
      "Produit - min: Agrumes, Autres - max: Épices, Autres\n",
      "Code année - min: 2013 - max: 2013\n",
      "Année - min: 2013 - max: 2013\n",
      "Unité - min: Kcal/personne/jour - max: kg\n",
      "Valeur - min: -39863.0 - max: 739267.0\n",
      "Symbole - min: A - max: S\n",
      "Description du Symbole - min: Agrégat, peut inclure des données officielles, semi-officielles, estimées ou calculées - max: Données standardisées\n",
      "\n",
      "##### YEAR SPAN OF COLUMN #####\n",
      "\n",
      "Code Domaine - Min: 2013  - Max: 2013\n",
      "Domaine - Min: 2013  - Max: 2013\n",
      "Code zone - Min: 2013  - Max: 2013\n",
      "Zone - Min: 2013  - Max: 2013\n",
      "Code Élément - Min: 2013  - Max: 2013\n",
      "Élément - Min: 2013  - Max: 2013\n",
      "Code Produit - Min: 2013  - Max: 2013\n",
      "Produit - Min: 2013  - Max: 2013\n",
      "Code année - Min: 2013  - Max: 2013\n",
      "Année - Min: 2013  - Max: 2013\n",
      "Unité - Min: 2013  - Max: 2013\n",
      "Valeur - Min: 2013  - Max: 2013\n",
      "Symbole - Min: 2013  - Max: 2013\n",
      "Description du Symbole - Min: 2013  - Max: 2013\n",
      "\n",
      "##### UNIQUE - VALUES ######\n",
      "\n",
      "Code Domaine - Number of entries: 104871 - Number of unique values: 1\n",
      "Domaine - Number of entries: 104871 - Number of unique values: 1\n",
      "Code zone - Number of entries: 104871 - Number of unique values: 175\n",
      "Zone - Number of entries: 104871 - Number of unique values: 175\n",
      "Code Élément - Number of entries: 104871 - Number of unique values: 15\n",
      "Élément - Number of entries: 104871 - Number of unique values: 15\n",
      "Code Produit - Number of entries: 104871 - Number of unique values: 75\n",
      "Produit - Number of entries: 104871 - Number of unique values: 75\n",
      "Code année - Number of entries: 104871 - Number of unique values: 1\n",
      "Année - Number of entries: 104871 - Number of unique values: 1\n",
      "Unité - Number of entries: 104871 - Number of unique values: 4\n",
      "Valeur - Number of entries: 104871 - Number of unique values: 6249\n",
      "Symbole - Number of entries: 104871 - Number of unique values: 3\n",
      "Description du Symbole - Number of entries: 104871 - Number of unique values: 3\n"
     ]
    }
   ],
   "source": [
    "df_col_attr(df_vegetal)"
   ]
  },
  {
   "cell_type": "code",
   "execution_count": 13,
   "metadata": {},
   "outputs": [],
   "source": [
    "show_n_missing(df_vegetal, \"Symbole\");"
   ]
  },
  {
   "cell_type": "markdown",
   "metadata": {},
   "source": [
    "#### Analyse pour les produits Végétaux\n",
    "- Il n'y a pas de doublons.\n",
    "- il n'y a pas de valeurs manquantes.\n",
    "- Le symbole S correspond á des valeurs standardisées, FC á des données calculées et A á des agrégats."
   ]
  },
  {
   "cell_type": "code",
   "execution_count": 14,
   "metadata": {},
   "outputs": [
    {
     "data": {
      "text/html": [
       "<div>\n",
       "<style scoped>\n",
       "    .dataframe tbody tr th:only-of-type {\n",
       "        vertical-align: middle;\n",
       "    }\n",
       "\n",
       "    .dataframe tbody tr th {\n",
       "        vertical-align: top;\n",
       "    }\n",
       "\n",
       "    .dataframe thead th {\n",
       "        text-align: right;\n",
       "    }\n",
       "</style>\n",
       "<table border=\"1\" class=\"dataframe\">\n",
       "  <thead>\n",
       "    <tr style=\"text-align: right;\">\n",
       "      <th></th>\n",
       "      <th>Code Domaine</th>\n",
       "      <th>Domaine</th>\n",
       "      <th>Code zone</th>\n",
       "      <th>Zone</th>\n",
       "      <th>Code Élément</th>\n",
       "      <th>Élément</th>\n",
       "      <th>Code Produit</th>\n",
       "      <th>Produit</th>\n",
       "      <th>Code année</th>\n",
       "      <th>Année</th>\n",
       "      <th>Unité</th>\n",
       "      <th>Valeur</th>\n",
       "      <th>Symbole</th>\n",
       "      <th>Description du Symbole</th>\n",
       "    </tr>\n",
       "  </thead>\n",
       "  <tbody>\n",
       "    <tr>\n",
       "      <th>0</th>\n",
       "      <td>FBSH</td>\n",
       "      <td>Bilans Alimentaire (Ancienne méthodologie et p...</td>\n",
       "      <td>2</td>\n",
       "      <td>Afghanistan</td>\n",
       "      <td>5511</td>\n",
       "      <td>Production</td>\n",
       "      <td>2731</td>\n",
       "      <td>Viande de Bovins</td>\n",
       "      <td>2013</td>\n",
       "      <td>2013</td>\n",
       "      <td>Milliers de tonnes</td>\n",
       "      <td>134.0</td>\n",
       "      <td>S</td>\n",
       "      <td>Données standardisées</td>\n",
       "    </tr>\n",
       "    <tr>\n",
       "      <th>1</th>\n",
       "      <td>FBSH</td>\n",
       "      <td>Bilans Alimentaire (Ancienne méthodologie et p...</td>\n",
       "      <td>2</td>\n",
       "      <td>Afghanistan</td>\n",
       "      <td>5611</td>\n",
       "      <td>Importations - Quantité</td>\n",
       "      <td>2731</td>\n",
       "      <td>Viande de Bovins</td>\n",
       "      <td>2013</td>\n",
       "      <td>2013</td>\n",
       "      <td>Milliers de tonnes</td>\n",
       "      <td>6.0</td>\n",
       "      <td>S</td>\n",
       "      <td>Données standardisées</td>\n",
       "    </tr>\n",
       "  </tbody>\n",
       "</table>\n",
       "</div>"
      ],
      "text/plain": [
       "  Code Domaine                                            Domaine  Code zone  \\\n",
       "0         FBSH  Bilans Alimentaire (Ancienne méthodologie et p...          2   \n",
       "1         FBSH  Bilans Alimentaire (Ancienne méthodologie et p...          2   \n",
       "\n",
       "          Zone  Code Élément                  Élément  Code Produit  \\\n",
       "0  Afghanistan          5511               Production          2731   \n",
       "1  Afghanistan          5611  Importations - Quantité          2731   \n",
       "\n",
       "            Produit  Code année  Année               Unité  Valeur Symbole  \\\n",
       "0  Viande de Bovins        2013   2013  Milliers de tonnes   134.0       S   \n",
       "1  Viande de Bovins        2013   2013  Milliers de tonnes     6.0       S   \n",
       "\n",
       "  Description du Symbole  \n",
       "0  Données standardisées  \n",
       "1  Données standardisées  "
      ]
     },
     "execution_count": 14,
     "metadata": {},
     "output_type": "execute_result"
    }
   ],
   "source": [
    "df_animal.head(2)"
   ]
  },
  {
   "cell_type": "code",
   "execution_count": 15,
   "metadata": {},
   "outputs": [
    {
     "name": "stdout",
     "output_type": "stream",
     "text": [
      "##### DUPLICATES ######\n",
      "\n",
      "Number of duplicated rows: 0 \n",
      "\n",
      "##### MIN / MAX - VALUES ######\n",
      "\n",
      "Code Domaine - min: FBSH - max: FBSH\n",
      "Domaine - min: Bilans Alimentaire (Ancienne méthodologie et population) - max: Bilans Alimentaire (Ancienne méthodologie et population)\n",
      "Code zone - min: 1 - max: 351\n",
      "Zone - min: Afghanistan - max: Îles Salomon\n",
      "Code Élément - min: 645 - max: 5911\n",
      "Élément - min: Aliments pour animaux - max: Variation de stock\n",
      "Code Produit - min: 2731 - max: 2848\n",
      "Produit - min: Abats Comestible - max: Viande, Autre\n",
      "Code année - min: 2013 - max: 2013\n",
      "Année - min: 2013 - max: 2013\n",
      "Unité - min: Kcal/personne/jour - max: kg\n",
      "Valeur - min: -1368.0 - max: 135600.0\n",
      "Symbole - min: A - max: S\n",
      "Description du Symbole - min: Agrégat, peut inclure des données officielles, semi-officielles, estimées ou calculées - max: Données standardisées\n",
      "\n",
      "##### YEAR SPAN OF COLUMN #####\n",
      "\n",
      "Code Domaine - Min: 2013  - Max: 2013\n",
      "Domaine - Min: 2013  - Max: 2013\n",
      "Code zone - Min: 2013  - Max: 2013\n",
      "Zone - Min: 2013  - Max: 2013\n",
      "Code Élément - Min: 2013  - Max: 2013\n",
      "Élément - Min: 2013  - Max: 2013\n",
      "Code Produit - Min: 2013  - Max: 2013\n",
      "Produit - Min: 2013  - Max: 2013\n",
      "Code année - Min: 2013  - Max: 2013\n",
      "Année - Min: 2013  - Max: 2013\n",
      "Unité - Min: 2013  - Max: 2013\n",
      "Valeur - Min: 2013  - Max: 2013\n",
      "Symbole - Min: 2013  - Max: 2013\n",
      "Description du Symbole - Min: 2013  - Max: 2013\n",
      "\n",
      "##### UNIQUE - VALUES ######\n",
      "\n",
      "Code Domaine - Number of entries: 37166 - Number of unique values: 1\n",
      "Domaine - Number of entries: 37166 - Number of unique values: 1\n",
      "Code zone - Number of entries: 37166 - Number of unique values: 175\n",
      "Zone - Number of entries: 37166 - Number of unique values: 175\n",
      "Code Élément - Number of entries: 37166 - Number of unique values: 15\n",
      "Élément - Number of entries: 37166 - Number of unique values: 15\n",
      "Code Produit - Number of entries: 37166 - Number of unique values: 23\n",
      "Produit - Number of entries: 37166 - Number of unique values: 23\n",
      "Code année - Number of entries: 37166 - Number of unique values: 1\n",
      "Année - Number of entries: 37166 - Number of unique values: 1\n",
      "Unité - Number of entries: 37166 - Number of unique values: 4\n",
      "Valeur - Number of entries: 37166 - Number of unique values: 3074\n",
      "Symbole - Number of entries: 37166 - Number of unique values: 3\n",
      "Description du Symbole - Number of entries: 37166 - Number of unique values: 3\n"
     ]
    }
   ],
   "source": [
    "df_col_attr(df_animal)"
   ]
  },
  {
   "cell_type": "code",
   "execution_count": 16,
   "metadata": {},
   "outputs": [],
   "source": [
    "show_n_missing(df_animal, \"Valeur\");"
   ]
  },
  {
   "cell_type": "markdown",
   "metadata": {},
   "source": [
    "#### Analyse pour les produits animaux\n",
    "- Il n'y a pas de doublons.\n",
    "- il n'y a pas de valeurs manquantes.\n",
    "- Le symbole S correspond á des valeurs standadisées, FC á des données calculées et A á des agrégats."
   ]
  },
  {
   "cell_type": "code",
   "execution_count": 17,
   "metadata": {},
   "outputs": [
    {
     "data": {
      "text/html": [
       "<div>\n",
       "<style scoped>\n",
       "    .dataframe tbody tr th:only-of-type {\n",
       "        vertical-align: middle;\n",
       "    }\n",
       "\n",
       "    .dataframe tbody tr th {\n",
       "        vertical-align: top;\n",
       "    }\n",
       "\n",
       "    .dataframe thead th {\n",
       "        text-align: right;\n",
       "    }\n",
       "</style>\n",
       "<table border=\"1\" class=\"dataframe\">\n",
       "  <thead>\n",
       "    <tr style=\"text-align: right;\">\n",
       "      <th></th>\n",
       "      <th>Code Domaine</th>\n",
       "      <th>Domaine</th>\n",
       "      <th>Code zone</th>\n",
       "      <th>Zone</th>\n",
       "      <th>Code Élément</th>\n",
       "      <th>Élément</th>\n",
       "      <th>Code Produit</th>\n",
       "      <th>Produit</th>\n",
       "      <th>Code année</th>\n",
       "      <th>Année</th>\n",
       "      <th>Unité</th>\n",
       "      <th>Valeur</th>\n",
       "      <th>Symbole</th>\n",
       "      <th>Description du Symbole</th>\n",
       "    </tr>\n",
       "  </thead>\n",
       "  <tbody>\n",
       "    <tr>\n",
       "      <th>0</th>\n",
       "      <td>FBSH</td>\n",
       "      <td>Bilans Alimentaire (Ancienne méthodologie et p...</td>\n",
       "      <td>2</td>\n",
       "      <td>Afghanistan</td>\n",
       "      <td>5511</td>\n",
       "      <td>Production</td>\n",
       "      <td>2511</td>\n",
       "      <td>Blé</td>\n",
       "      <td>2013</td>\n",
       "      <td>2013</td>\n",
       "      <td>Milliers de tonnes</td>\n",
       "      <td>5169</td>\n",
       "      <td>S</td>\n",
       "      <td>Données standardisées</td>\n",
       "    </tr>\n",
       "    <tr>\n",
       "      <th>1</th>\n",
       "      <td>FBSH</td>\n",
       "      <td>Bilans Alimentaire (Ancienne méthodologie et p...</td>\n",
       "      <td>2</td>\n",
       "      <td>Afghanistan</td>\n",
       "      <td>5511</td>\n",
       "      <td>Production</td>\n",
       "      <td>2805</td>\n",
       "      <td>Riz (Eq Blanchi)</td>\n",
       "      <td>2013</td>\n",
       "      <td>2013</td>\n",
       "      <td>Milliers de tonnes</td>\n",
       "      <td>342</td>\n",
       "      <td>S</td>\n",
       "      <td>Données standardisées</td>\n",
       "    </tr>\n",
       "  </tbody>\n",
       "</table>\n",
       "</div>"
      ],
      "text/plain": [
       "  Code Domaine                                            Domaine  Code zone  \\\n",
       "0         FBSH  Bilans Alimentaire (Ancienne méthodologie et p...          2   \n",
       "1         FBSH  Bilans Alimentaire (Ancienne méthodologie et p...          2   \n",
       "\n",
       "          Zone  Code Élément     Élément  Code Produit           Produit  \\\n",
       "0  Afghanistan          5511  Production          2511               Blé   \n",
       "1  Afghanistan          5511  Production          2805  Riz (Eq Blanchi)   \n",
       "\n",
       "   Code année  Année               Unité  Valeur Symbole  \\\n",
       "0        2013   2013  Milliers de tonnes    5169       S   \n",
       "1        2013   2013  Milliers de tonnes     342       S   \n",
       "\n",
       "  Description du Symbole  \n",
       "0  Données standardisées  \n",
       "1  Données standardisées  "
      ]
     },
     "execution_count": 17,
     "metadata": {},
     "output_type": "execute_result"
    }
   ],
   "source": [
    "df_cereal.head(2)"
   ]
  },
  {
   "cell_type": "code",
   "execution_count": 18,
   "metadata": {},
   "outputs": [
    {
     "name": "stdout",
     "output_type": "stream",
     "text": [
      "##### DUPLICATES ######\n",
      "\n",
      "Number of duplicated rows: 0 \n",
      "\n",
      "##### MIN / MAX - VALUES ######\n",
      "\n",
      "Code Domaine - min: FBSH - max: FBSH\n",
      "Domaine - min: Bilans Alimentaire (Ancienne méthodologie et population) - max: Bilans Alimentaire (Ancienne méthodologie et population)\n",
      "Code zone - min: 1 - max: 276\n",
      "Zone - min: Afghanistan - max: Îles Salomon\n",
      "Code Élément - min: 5511 - max: 5511\n",
      "Élément - min: Production - max: Production\n",
      "Code Produit - min: 2511 - max: 2805\n",
      "Produit - min: Avoine - max: Sorgho\n",
      "Code année - min: 2013 - max: 2013\n",
      "Année - min: 2013 - max: 2013\n",
      "Unité - min: Milliers de tonnes - max: Milliers de tonnes\n",
      "Valeur - min: 0 - max: 353699\n",
      "Symbole - min: S - max: S\n",
      "Description du Symbole - min: Données standardisées - max: Données standardisées\n",
      "\n",
      "##### YEAR SPAN OF COLUMN #####\n",
      "\n",
      "Code Domaine - Min: 2013  - Max: 2013\n",
      "Domaine - Min: 2013  - Max: 2013\n",
      "Code zone - Min: 2013  - Max: 2013\n",
      "Zone - Min: 2013  - Max: 2013\n",
      "Code Élément - Min: 2013  - Max: 2013\n",
      "Élément - Min: 2013  - Max: 2013\n",
      "Code Produit - Min: 2013  - Max: 2013\n",
      "Produit - Min: 2013  - Max: 2013\n",
      "Code année - Min: 2013  - Max: 2013\n",
      "Année - Min: 2013  - Max: 2013\n",
      "Unité - Min: 2013  - Max: 2013\n",
      "Valeur - Min: 2013  - Max: 2013\n",
      "Symbole - Min: 2013  - Max: 2013\n",
      "Description du Symbole - Min: 2013  - Max: 2013\n",
      "\n",
      "##### UNIQUE - VALUES ######\n",
      "\n",
      "Code Domaine - Number of entries: 891 - Number of unique values: 1\n",
      "Domaine - Number of entries: 891 - Number of unique values: 1\n",
      "Code zone - Number of entries: 891 - Number of unique values: 167\n",
      "Zone - Number of entries: 891 - Number of unique values: 167\n",
      "Code Élément - Number of entries: 891 - Number of unique values: 1\n",
      "Élément - Number of entries: 891 - Number of unique values: 1\n",
      "Code Produit - Number of entries: 891 - Number of unique values: 9\n",
      "Produit - Number of entries: 891 - Number of unique values: 9\n",
      "Code année - Number of entries: 891 - Number of unique values: 1\n",
      "Année - Number of entries: 891 - Number of unique values: 1\n",
      "Unité - Number of entries: 891 - Number of unique values: 1\n",
      "Valeur - Number of entries: 891 - Number of unique values: 485\n",
      "Symbole - Number of entries: 891 - Number of unique values: 1\n",
      "Description du Symbole - Number of entries: 891 - Number of unique values: 1\n"
     ]
    }
   ],
   "source": [
    "df_col_attr(df_cereal)"
   ]
  },
  {
   "cell_type": "code",
   "execution_count": 19,
   "metadata": {},
   "outputs": [],
   "source": [
    "show_n_missing(df_cereal, \"Produit\");"
   ]
  },
  {
   "cell_type": "markdown",
   "metadata": {},
   "source": [
    "#### Analyse pour les produits céréales\n",
    "- Il n'y a pas de doublons.\n",
    "- il n'y a pas de valeurs manquantes.\n",
    "- Le symbole S correspond á des valeurs standadisées, Il n'y a pas les symboles A et Fc."
   ]
  },
  {
   "cell_type": "code",
   "execution_count": 20,
   "metadata": {},
   "outputs": [
    {
     "data": {
      "text/html": [
       "<div>\n",
       "<style scoped>\n",
       "    .dataframe tbody tr th:only-of-type {\n",
       "        vertical-align: middle;\n",
       "    }\n",
       "\n",
       "    .dataframe tbody tr th {\n",
       "        vertical-align: top;\n",
       "    }\n",
       "\n",
       "    .dataframe thead th {\n",
       "        text-align: right;\n",
       "    }\n",
       "</style>\n",
       "<table border=\"1\" class=\"dataframe\">\n",
       "  <thead>\n",
       "    <tr style=\"text-align: right;\">\n",
       "      <th></th>\n",
       "      <th>Code Domaine</th>\n",
       "      <th>Domaine</th>\n",
       "      <th>Code zone</th>\n",
       "      <th>Zone</th>\n",
       "      <th>Code Élément</th>\n",
       "      <th>Élément</th>\n",
       "      <th>Code Produit</th>\n",
       "      <th>Produit</th>\n",
       "      <th>Code année</th>\n",
       "      <th>Année</th>\n",
       "      <th>Unité</th>\n",
       "      <th>Valeur</th>\n",
       "      <th>Symbole</th>\n",
       "      <th>Description du Symbole</th>\n",
       "      <th>Note</th>\n",
       "    </tr>\n",
       "  </thead>\n",
       "  <tbody>\n",
       "    <tr>\n",
       "      <th>0</th>\n",
       "      <td>FS</td>\n",
       "      <td>Données de la sécurité alimentaire</td>\n",
       "      <td>2</td>\n",
       "      <td>Afghanistan</td>\n",
       "      <td>6132</td>\n",
       "      <td>Valeur</td>\n",
       "      <td>210011</td>\n",
       "      <td>Nombre de personnes sous-alimentées (millions)...</td>\n",
       "      <td>20122014</td>\n",
       "      <td>2012-2014</td>\n",
       "      <td>millions</td>\n",
       "      <td>7.9</td>\n",
       "      <td>F</td>\n",
       "      <td>Estimation FAO</td>\n",
       "      <td>NaN</td>\n",
       "    </tr>\n",
       "    <tr>\n",
       "      <th>1</th>\n",
       "      <td>FS</td>\n",
       "      <td>Données de la sécurité alimentaire</td>\n",
       "      <td>2</td>\n",
       "      <td>Afghanistan</td>\n",
       "      <td>6132</td>\n",
       "      <td>Valeur</td>\n",
       "      <td>210011</td>\n",
       "      <td>Nombre de personnes sous-alimentées (millions)...</td>\n",
       "      <td>20132015</td>\n",
       "      <td>2013-2015</td>\n",
       "      <td>millions</td>\n",
       "      <td>8.8</td>\n",
       "      <td>F</td>\n",
       "      <td>Estimation FAO</td>\n",
       "      <td>NaN</td>\n",
       "    </tr>\n",
       "  </tbody>\n",
       "</table>\n",
       "</div>"
      ],
      "text/plain": [
       "  Code Domaine                             Domaine  Code zone         Zone  \\\n",
       "0           FS  Données de la sécurité alimentaire          2  Afghanistan   \n",
       "1           FS  Données de la sécurité alimentaire          2  Afghanistan   \n",
       "\n",
       "   Code Élément Élément  Code Produit  \\\n",
       "0          6132  Valeur        210011   \n",
       "1          6132  Valeur        210011   \n",
       "\n",
       "                                             Produit  Code année      Année  \\\n",
       "0  Nombre de personnes sous-alimentées (millions)...    20122014  2012-2014   \n",
       "1  Nombre de personnes sous-alimentées (millions)...    20132015  2013-2015   \n",
       "\n",
       "      Unité Valeur Symbole Description du Symbole  Note  \n",
       "0  millions    7.9       F         Estimation FAO   NaN  \n",
       "1  millions    8.8       F         Estimation FAO   NaN  "
      ]
     },
     "execution_count": 20,
     "metadata": {},
     "output_type": "execute_result"
    }
   ],
   "source": [
    "df_sous_alimentation.head(2)"
   ]
  },
  {
   "cell_type": "code",
   "execution_count": 21,
   "metadata": {},
   "outputs": [
    {
     "name": "stdout",
     "output_type": "stream",
     "text": [
      "##### DUPLICATES ######\n",
      "\n",
      "Number of duplicated rows: 0 \n",
      "\n",
      "##### MIN / MAX - VALUES ######\n",
      "\n",
      "Code Domaine - min: FS - max: FS\n",
      "Domaine - min: Données de la sécurité alimentaire - max: Données de la sécurité alimentaire\n",
      "Code zone - min: 1 - max: 351\n",
      "Zone - min: Afghanistan - max: Îles Salomon\n",
      "Code Élément - min: 6132 - max: 6132\n",
      "Élément - min: Valeur - max: Valeur\n",
      "Code Produit - min: 210011 - max: 210011\n",
      "Produit - min: Nombre de personnes sous-alimentées (millions) (moyenne sur 3 ans) - max: Nombre de personnes sous-alimentées (millions) (moyenne sur 3 ans)\n",
      "Code année - min: 20122014 - max: 20162018\n",
      "Année - min: 2012-2014 - max: 2016-2018\n",
      "Unité - min: millions - max: millions\n",
      "Valeur - min: 0.1 - max: 216.3\n",
      "Symbole - min: F - max: NV\n",
      "Description du Symbole - min: Estimation FAO - max: Non rapportée\n",
      "Note - min: nan - max: nan\n",
      "\n",
      "##### YEAR SPAN OF COLUMN #####\n",
      "\n",
      "Code Domaine - Min: 2012-2014  - Max: 2016-2018\n",
      "Domaine - Min: 2012-2014  - Max: 2016-2018\n",
      "Code zone - Min: 2012-2014  - Max: 2016-2018\n",
      "Zone - Min: 2012-2014  - Max: 2016-2018\n",
      "Code Élément - Min: 2012-2014  - Max: 2016-2018\n",
      "Élément - Min: 2012-2014  - Max: 2016-2018\n",
      "Code Produit - Min: 2012-2014  - Max: 2016-2018\n",
      "Produit - Min: 2012-2014  - Max: 2016-2018\n",
      "Code année - Min: 2012-2014  - Max: 2016-2018\n",
      "Année - Min: 2012-2014  - Max: 2016-2018\n",
      "Unité - Min: 2012-2014  - Max: 2016-2018\n",
      "Valeur - Min: 2012-2014  - Max: 2016-2018\n",
      "Symbole - Min: 2012-2014  - Max: 2016-2018\n",
      "Description du Symbole - Min: 2012-2014  - Max: 2016-2018\n",
      "Note - Min: nan  - Max: nan\n",
      "\n",
      "##### UNIQUE - VALUES ######\n",
      "\n",
      "Code Domaine - Number of entries: 1020 - Number of unique values: 1\n",
      "Domaine - Number of entries: 1020 - Number of unique values: 1\n",
      "Code zone - Number of entries: 1020 - Number of unique values: 204\n",
      "Zone - Number of entries: 1020 - Number of unique values: 204\n",
      "Code Élément - Number of entries: 1020 - Number of unique values: 1\n",
      "Élément - Number of entries: 1020 - Number of unique values: 1\n",
      "Code Produit - Number of entries: 1020 - Number of unique values: 1\n",
      "Produit - Number of entries: 1020 - Number of unique values: 1\n",
      "Code année - Number of entries: 1020 - Number of unique values: 5\n",
      "Année - Number of entries: 1020 - Number of unique values: 5\n",
      "Unité - Number of entries: 1020 - Number of unique values: 1\n",
      "Valeur - Number of entries: 490 - Number of unique values: 145\n",
      "Symbole - Number of entries: 1020 - Number of unique values: 3\n",
      "Description du Symbole - Number of entries: 1020 - Number of unique values: 3\n",
      "Note - Number of entries: 0 - Number of unique values: 0\n"
     ]
    }
   ],
   "source": [
    "# la colonne 'valeur' est de type object\n",
    "# convertir la colonne 'Valeur' en float\n",
    "df_sous_alimentation[\"Valeur\"] = pd.to_numeric(df_sous_alimentation[\"Valeur\"], errors='coerce')\n",
    "df_col_attr(df_sous_alimentation)"
   ]
  },
  {
   "cell_type": "code",
   "execution_count": 22,
   "metadata": {},
   "outputs": [],
   "source": [
    "show_n_missing(df_sous_alimentation, \"Produit\");"
   ]
  },
  {
   "cell_type": "markdown",
   "metadata": {},
   "source": [
    "#### Analyse pour sous_alimentation\n",
    "- Il n'y a pas de doublons.\n",
    "- il y a des valeurs manquantes dans la colonne 'Valeur'.\n",
    "- On trouve l'estimation FAO dans Description du Symbole."
   ]
  },
  {
   "cell_type": "markdown",
   "metadata": {},
   "source": [
    "<h1><center>Questions 1 à 14</center></h1> "
   ]
  },
  {
   "cell_type": "markdown",
   "metadata": {},
   "source": [
    "#### Question 1 : donnez le résultat de votre calcul pour l'année 2013."
   ]
  },
  {
   "cell_type": "markdown",
   "metadata": {},
   "source": [
    "##### Remarque : \n",
    "\n",
    "- On a observé une valeur max pour la population de 14 milliards.\n",
    "- On va regarder á quoi cela correspond"
   ]
  },
  {
   "cell_type": "code",
   "execution_count": 23,
   "metadata": {},
   "outputs": [
    {
     "data": {
      "text/html": [
       "<div>\n",
       "<style scoped>\n",
       "    .dataframe tbody tr th:only-of-type {\n",
       "        vertical-align: middle;\n",
       "    }\n",
       "\n",
       "    .dataframe tbody tr th {\n",
       "        vertical-align: top;\n",
       "    }\n",
       "\n",
       "    .dataframe thead th {\n",
       "        text-align: right;\n",
       "    }\n",
       "</style>\n",
       "<table border=\"1\" class=\"dataframe\">\n",
       "  <thead>\n",
       "    <tr style=\"text-align: right;\">\n",
       "      <th></th>\n",
       "      <th>Code Domaine</th>\n",
       "      <th>Domaine</th>\n",
       "      <th>Code zone</th>\n",
       "      <th>Zone</th>\n",
       "      <th>Code Élément</th>\n",
       "      <th>Élément</th>\n",
       "      <th>Code Produit</th>\n",
       "      <th>Produit</th>\n",
       "      <th>Code année</th>\n",
       "      <th>Année</th>\n",
       "      <th>Unité</th>\n",
       "      <th>Valeur</th>\n",
       "      <th>Symbole</th>\n",
       "      <th>Description du Symbole</th>\n",
       "    </tr>\n",
       "  </thead>\n",
       "  <tbody>\n",
       "    <tr>\n",
       "      <th>33</th>\n",
       "      <td>FBSH</td>\n",
       "      <td>Bilans Alimentaire (Ancienne méthodologie et p...</td>\n",
       "      <td>351</td>\n",
       "      <td>Chine</td>\n",
       "      <td>511</td>\n",
       "      <td>Population totale</td>\n",
       "      <td>2501</td>\n",
       "      <td>Population</td>\n",
       "      <td>2013</td>\n",
       "      <td>2013</td>\n",
       "      <td>1000 personnes</td>\n",
       "      <td>1416667</td>\n",
       "      <td>A</td>\n",
       "      <td>Agrégat, peut inclure des données officielles,...</td>\n",
       "    </tr>\n",
       "    <tr>\n",
       "      <th>36</th>\n",
       "      <td>FBSH</td>\n",
       "      <td>Bilans Alimentaire (Ancienne méthodologie et p...</td>\n",
       "      <td>41</td>\n",
       "      <td>Chine, continentale</td>\n",
       "      <td>511</td>\n",
       "      <td>Population totale</td>\n",
       "      <td>2501</td>\n",
       "      <td>Population</td>\n",
       "      <td>2013</td>\n",
       "      <td>2013</td>\n",
       "      <td>1000 personnes</td>\n",
       "      <td>1385567</td>\n",
       "      <td>NaN</td>\n",
       "      <td>Donnée officielle</td>\n",
       "    </tr>\n",
       "    <tr>\n",
       "      <th>75</th>\n",
       "      <td>FBSH</td>\n",
       "      <td>Bilans Alimentaire (Ancienne méthodologie et p...</td>\n",
       "      <td>100</td>\n",
       "      <td>Inde</td>\n",
       "      <td>511</td>\n",
       "      <td>Population totale</td>\n",
       "      <td>2501</td>\n",
       "      <td>Population</td>\n",
       "      <td>2013</td>\n",
       "      <td>2013</td>\n",
       "      <td>1000 personnes</td>\n",
       "      <td>1252140</td>\n",
       "      <td>NaN</td>\n",
       "      <td>Donnée officielle</td>\n",
       "    </tr>\n",
       "    <tr>\n",
       "      <th>55</th>\n",
       "      <td>FBSH</td>\n",
       "      <td>Bilans Alimentaire (Ancienne méthodologie et p...</td>\n",
       "      <td>231</td>\n",
       "      <td>États-Unis d'Amérique</td>\n",
       "      <td>511</td>\n",
       "      <td>Population totale</td>\n",
       "      <td>2501</td>\n",
       "      <td>Population</td>\n",
       "      <td>2013</td>\n",
       "      <td>2013</td>\n",
       "      <td>1000 personnes</td>\n",
       "      <td>320051</td>\n",
       "      <td>NaN</td>\n",
       "      <td>Donnée officielle</td>\n",
       "    </tr>\n",
       "    <tr>\n",
       "      <th>76</th>\n",
       "      <td>FBSH</td>\n",
       "      <td>Bilans Alimentaire (Ancienne méthodologie et p...</td>\n",
       "      <td>101</td>\n",
       "      <td>Indonésie</td>\n",
       "      <td>511</td>\n",
       "      <td>Population totale</td>\n",
       "      <td>2501</td>\n",
       "      <td>Population</td>\n",
       "      <td>2013</td>\n",
       "      <td>2013</td>\n",
       "      <td>1000 personnes</td>\n",
       "      <td>249866</td>\n",
       "      <td>NaN</td>\n",
       "      <td>Donnée officielle</td>\n",
       "    </tr>\n",
       "  </tbody>\n",
       "</table>\n",
       "</div>"
      ],
      "text/plain": [
       "   Code Domaine                                            Domaine  Code zone  \\\n",
       "33         FBSH  Bilans Alimentaire (Ancienne méthodologie et p...        351   \n",
       "36         FBSH  Bilans Alimentaire (Ancienne méthodologie et p...         41   \n",
       "75         FBSH  Bilans Alimentaire (Ancienne méthodologie et p...        100   \n",
       "55         FBSH  Bilans Alimentaire (Ancienne méthodologie et p...        231   \n",
       "76         FBSH  Bilans Alimentaire (Ancienne méthodologie et p...        101   \n",
       "\n",
       "                     Zone  Code Élément            Élément  Code Produit  \\\n",
       "33                  Chine           511  Population totale          2501   \n",
       "36    Chine, continentale           511  Population totale          2501   \n",
       "75                   Inde           511  Population totale          2501   \n",
       "55  États-Unis d'Amérique           511  Population totale          2501   \n",
       "76              Indonésie           511  Population totale          2501   \n",
       "\n",
       "       Produit  Code année  Année           Unité   Valeur Symbole  \\\n",
       "33  Population        2013   2013  1000 personnes  1416667       A   \n",
       "36  Population        2013   2013  1000 personnes  1385567     NaN   \n",
       "75  Population        2013   2013  1000 personnes  1252140     NaN   \n",
       "55  Population        2013   2013  1000 personnes   320051     NaN   \n",
       "76  Population        2013   2013  1000 personnes   249866     NaN   \n",
       "\n",
       "                               Description du Symbole  \n",
       "33  Agrégat, peut inclure des données officielles,...  \n",
       "36                                  Donnée officielle  \n",
       "75                                  Donnée officielle  \n",
       "55                                  Donnée officielle  \n",
       "76                                  Donnée officielle  "
      ]
     },
     "execution_count": 23,
     "metadata": {},
     "output_type": "execute_result"
    }
   ],
   "source": [
    "#On ordonne les valeurs par ordre decroissante\n",
    "\n",
    "df_population.sort_values(by='Valeur', ascending=False).head()"
   ]
  },
  {
   "cell_type": "markdown",
   "metadata": {},
   "source": [
    "- On peux observer que la Chine est comptabilisée deux fois avec le symbole A\n",
    "- On va suprimer cette information.\n"
   ]
  },
  {
   "cell_type": "code",
   "execution_count": 24,
   "metadata": {},
   "outputs": [
    {
     "data": {
      "text/html": [
       "<div>\n",
       "<style scoped>\n",
       "    .dataframe tbody tr th:only-of-type {\n",
       "        vertical-align: middle;\n",
       "    }\n",
       "\n",
       "    .dataframe tbody tr th {\n",
       "        vertical-align: top;\n",
       "    }\n",
       "\n",
       "    .dataframe thead th {\n",
       "        text-align: right;\n",
       "    }\n",
       "</style>\n",
       "<table border=\"1\" class=\"dataframe\">\n",
       "  <thead>\n",
       "    <tr style=\"text-align: right;\">\n",
       "      <th></th>\n",
       "      <th>Zone</th>\n",
       "      <th>Année</th>\n",
       "      <th>Code zone</th>\n",
       "      <th>Valeur</th>\n",
       "    </tr>\n",
       "  </thead>\n",
       "  <tbody>\n",
       "    <tr>\n",
       "      <th>33</th>\n",
       "      <td>Chine</td>\n",
       "      <td>2013</td>\n",
       "      <td>351</td>\n",
       "      <td>1416667</td>\n",
       "    </tr>\n",
       "    <tr>\n",
       "      <th>36</th>\n",
       "      <td>Chine, continentale</td>\n",
       "      <td>2013</td>\n",
       "      <td>41</td>\n",
       "      <td>1385567</td>\n",
       "    </tr>\n",
       "    <tr>\n",
       "      <th>75</th>\n",
       "      <td>Inde</td>\n",
       "      <td>2013</td>\n",
       "      <td>100</td>\n",
       "      <td>1252140</td>\n",
       "    </tr>\n",
       "    <tr>\n",
       "      <th>55</th>\n",
       "      <td>États-Unis d'Amérique</td>\n",
       "      <td>2013</td>\n",
       "      <td>231</td>\n",
       "      <td>320051</td>\n",
       "    </tr>\n",
       "    <tr>\n",
       "      <th>76</th>\n",
       "      <td>Indonésie</td>\n",
       "      <td>2013</td>\n",
       "      <td>101</td>\n",
       "      <td>249866</td>\n",
       "    </tr>\n",
       "  </tbody>\n",
       "</table>\n",
       "</div>"
      ],
      "text/plain": [
       "                     Zone  Année  Code zone   Valeur\n",
       "33                  Chine   2013        351  1416667\n",
       "36    Chine, continentale   2013         41  1385567\n",
       "75                   Inde   2013        100  1252140\n",
       "55  États-Unis d'Amérique   2013        231   320051\n",
       "76              Indonésie   2013        101   249866"
      ]
     },
     "execution_count": 24,
     "metadata": {},
     "output_type": "execute_result"
    }
   ],
   "source": [
    "population.sort_values(by='Valeur', ascending=False).head()"
   ]
  },
  {
   "cell_type": "code",
   "execution_count": 25,
   "metadata": {},
   "outputs": [
    {
     "data": {
      "text/plain": [
       "(174, 4)"
      ]
     },
     "execution_count": 25,
     "metadata": {},
     "output_type": "execute_result"
    }
   ],
   "source": [
    "population = population[population['Code zone'] != 351]\n",
    "population.shape"
   ]
  },
  {
   "cell_type": "code",
   "execution_count": 26,
   "metadata": {},
   "outputs": [
    {
     "name": "stdout",
     "output_type": "stream",
     "text": [
      "La population totale est de 6997326000 milliards dans le monde en 2013\n"
     ]
    }
   ],
   "source": [
    "population_total = population['Valeur'].sum() * 1000\n",
    "print('La population totale est de {} milliards dans le monde en 2013'.format(population_total))"
   ]
  },
  {
   "cell_type": "markdown",
   "metadata": {},
   "source": [
    "#### Question 2\n",
    "\n",
    "Identifiez ces redondances, en donnant votre réponse sous forme de formule mathématique (pas besoin de coder ici :soleil: ). C'est une équation à 3 termes de type \\(a_1 + a2 + [...] = b_1 + b_2 + [...] = c_1 + c_2 + [...]\\) ) faisant intervenir chacune des 11 quantités données ci dessus. Illustrez cette équation avec l'exemple du blé en France. Pour avoir un indice, cliquez sur \"Définitions et Standards\" sur la page de téléchargement des données."
   ]
  },
  {
   "cell_type": "markdown",
   "metadata": {},
   "source": [
    "###### Equation\n",
    "\n",
    "- Disponibilité intérieure = Production + Importation + Variation de stock - Exportations = Aliments pour animaux + Semences + Pertes + Traitement + Autres Utilisations (non alimentaire) + Nourriture"
   ]
  },
  {
   "cell_type": "code",
   "execution_count": 27,
   "metadata": {},
   "outputs": [
    {
     "data": {
      "text/html": [
       "<div>\n",
       "<style scoped>\n",
       "    .dataframe tbody tr th:only-of-type {\n",
       "        vertical-align: middle;\n",
       "    }\n",
       "\n",
       "    .dataframe tbody tr th {\n",
       "        vertical-align: top;\n",
       "    }\n",
       "\n",
       "    .dataframe thead th {\n",
       "        text-align: right;\n",
       "    }\n",
       "</style>\n",
       "<table border=\"1\" class=\"dataframe\">\n",
       "  <thead>\n",
       "    <tr style=\"text-align: right;\">\n",
       "      <th></th>\n",
       "      <th>Code Domaine</th>\n",
       "      <th>Domaine</th>\n",
       "      <th>Code zone</th>\n",
       "      <th>Zone</th>\n",
       "      <th>Code Élément</th>\n",
       "      <th>Élément</th>\n",
       "      <th>Code Produit</th>\n",
       "      <th>Produit</th>\n",
       "      <th>Code année</th>\n",
       "      <th>Année</th>\n",
       "      <th>Unité</th>\n",
       "      <th>Valeur</th>\n",
       "      <th>Symbole</th>\n",
       "      <th>Description du Symbole</th>\n",
       "      <th>Origine</th>\n",
       "    </tr>\n",
       "  </thead>\n",
       "  <tbody>\n",
       "    <tr>\n",
       "      <th>0</th>\n",
       "      <td>FBSH</td>\n",
       "      <td>Bilans Alimentaire (Ancienne méthodologie et p...</td>\n",
       "      <td>2</td>\n",
       "      <td>Afghanistan</td>\n",
       "      <td>5511</td>\n",
       "      <td>Production</td>\n",
       "      <td>2511</td>\n",
       "      <td>Blé</td>\n",
       "      <td>2013</td>\n",
       "      <td>2013</td>\n",
       "      <td>Milliers de tonnes</td>\n",
       "      <td>5169.0</td>\n",
       "      <td>S</td>\n",
       "      <td>Données standardisées</td>\n",
       "      <td>Vegetal</td>\n",
       "    </tr>\n",
       "  </tbody>\n",
       "</table>\n",
       "</div>"
      ],
      "text/plain": [
       "  Code Domaine                                            Domaine  Code zone  \\\n",
       "0         FBSH  Bilans Alimentaire (Ancienne méthodologie et p...          2   \n",
       "\n",
       "          Zone  Code Élément     Élément  Code Produit Produit  Code année  \\\n",
       "0  Afghanistan          5511  Production          2511     Blé        2013   \n",
       "\n",
       "   Année               Unité  Valeur Symbole Description du Symbole  Origine  \n",
       "0   2013  Milliers de tonnes  5169.0       S  Données standardisées  Vegetal  "
      ]
     },
     "execution_count": 27,
     "metadata": {},
     "output_type": "execute_result"
    }
   ],
   "source": [
    "#  Illustrez cette équation avec l'exemple du blé en France.\n",
    "# Comme on l'avait observé, il y a un doublon avec la chine avec le symbole 'A' que correspond á des agrégats.\n",
    "# On va supprimer cette information dans le fichier végétal et animal.\n",
    "\n",
    "df_vegetal = df_vegetal[df_vegetal['Symbole'] != 'A'] # On supprime le valeur par la colonne 'symbole'\n",
    "df_animal = df_animal[df_animal['Symbole'] != 'A']\n",
    "\n",
    "# On va créer une colonne 'Origine' pour séparer le produit végétal et animal.\n",
    "df_vegetal['Origine'] = 'Vegetal'\n",
    "df_animal['Origine'] = 'Animal'\n",
    "\n",
    "# On utilise la fontion concat de pandas.\n",
    "animal_et_vegetal = pd.concat([df_vegetal, df_animal]) # On realice l'union grâce à pd.concat\n",
    "animal_et_vegetal.head(1)"
   ]
  },
  {
   "cell_type": "code",
   "execution_count": 28,
   "metadata": {},
   "outputs": [
    {
     "data": {
      "text/html": [
       "<div>\n",
       "<style scoped>\n",
       "    .dataframe tbody tr th:only-of-type {\n",
       "        vertical-align: middle;\n",
       "    }\n",
       "\n",
       "    .dataframe tbody tr th {\n",
       "        vertical-align: top;\n",
       "    }\n",
       "\n",
       "    .dataframe thead th {\n",
       "        text-align: right;\n",
       "    }\n",
       "</style>\n",
       "<table border=\"1\" class=\"dataframe\">\n",
       "  <thead>\n",
       "    <tr style=\"text-align: right;\">\n",
       "      <th>Élément</th>\n",
       "      <th>Code zone</th>\n",
       "      <th>Zone</th>\n",
       "      <th>Code Produit</th>\n",
       "      <th>Produit</th>\n",
       "      <th>Origine</th>\n",
       "      <th>Code année</th>\n",
       "      <th>Année</th>\n",
       "      <th>Aliments pour animaux</th>\n",
       "      <th>Autres utilisations (non alimentaire)</th>\n",
       "      <th>Disponibilité alimentaire (Kcal/personne/jour)</th>\n",
       "      <th>Disponibilité alimentaire en quantité (kg/personne/an)</th>\n",
       "      <th>Disponibilité de matière grasse en quantité (g/personne/jour)</th>\n",
       "      <th>Disponibilité de protéines en quantité (g/personne/jour)</th>\n",
       "      <th>Disponibilité intérieure</th>\n",
       "      <th>Exportations - Quantité</th>\n",
       "      <th>Importations - Quantité</th>\n",
       "      <th>Nourriture</th>\n",
       "      <th>Pertes</th>\n",
       "      <th>Production</th>\n",
       "      <th>Semences</th>\n",
       "      <th>Traitement</th>\n",
       "      <th>Variation de stock</th>\n",
       "    </tr>\n",
       "  </thead>\n",
       "  <tbody>\n",
       "    <tr>\n",
       "      <th>0</th>\n",
       "      <td>1</td>\n",
       "      <td>Arménie</td>\n",
       "      <td>2511</td>\n",
       "      <td>Blé</td>\n",
       "      <td>Vegetal</td>\n",
       "      <td>2013</td>\n",
       "      <td>2013</td>\n",
       "      <td>93.0</td>\n",
       "      <td>0.0</td>\n",
       "      <td>1024.0</td>\n",
       "      <td>130.6</td>\n",
       "      <td>3.6</td>\n",
       "      <td>30.52</td>\n",
       "      <td>554.0</td>\n",
       "      <td>1.0</td>\n",
       "      <td>361.0</td>\n",
       "      <td>389.0</td>\n",
       "      <td>32.0</td>\n",
       "      <td>312.0</td>\n",
       "      <td>30.0</td>\n",
       "      <td>10.0</td>\n",
       "      <td>-118.0</td>\n",
       "    </tr>\n",
       "  </tbody>\n",
       "</table>\n",
       "</div>"
      ],
      "text/plain": [
       "Élément  Code zone     Zone  Code Produit Produit  Origine  Code année  Année  \\\n",
       "0                1  Arménie          2511     Blé  Vegetal        2013   2013   \n",
       "\n",
       "Élément  Aliments pour animaux  Autres utilisations (non alimentaire)  \\\n",
       "0                         93.0                                    0.0   \n",
       "\n",
       "Élément  Disponibilité alimentaire (Kcal/personne/jour)  \\\n",
       "0                                                1024.0   \n",
       "\n",
       "Élément  Disponibilité alimentaire en quantité (kg/personne/an)  \\\n",
       "0                                                    130.6        \n",
       "\n",
       "Élément  Disponibilité de matière grasse en quantité (g/personne/jour)  \\\n",
       "0                                                      3.6               \n",
       "\n",
       "Élément  Disponibilité de protéines en quantité (g/personne/jour)  \\\n",
       "0                                                    30.52          \n",
       "\n",
       "Élément  Disponibilité intérieure  Exportations - Quantité  \\\n",
       "0                           554.0                      1.0   \n",
       "\n",
       "Élément  Importations - Quantité  Nourriture  Pertes  Production  Semences  \\\n",
       "0                          361.0       389.0    32.0       312.0      30.0   \n",
       "\n",
       "Élément  Traitement  Variation de stock  \n",
       "0              10.0              -118.0  "
      ]
     },
     "execution_count": 28,
     "metadata": {},
     "output_type": "execute_result"
    }
   ],
   "source": [
    "# On va utiliser une table pivot pour prendre les colonnes dont on a besoin\n",
    "animal_vegetal_pivot_table = animal_et_vegetal.pivot_table(index=['Code zone', 'Zone', 'Code Produit', 'Produit',\n",
    "                                                                  'Origine', 'Code année', 'Année'],\n",
    "                                                          columns = 'Élément', values = 'Valeur', aggfunc = sum)\n",
    "\n",
    "# pour réinitialiser les index\n",
    "animal_vegetal = animal_vegetal_pivot_table.reset_index()\n",
    "animal_vegetal.head(1)"
   ]
  },
  {
   "cell_type": "code",
   "execution_count": 29,
   "metadata": {},
   "outputs": [
    {
     "data": {
      "text/html": [
       "<div>\n",
       "<style scoped>\n",
       "    .dataframe tbody tr th:only-of-type {\n",
       "        vertical-align: middle;\n",
       "    }\n",
       "\n",
       "    .dataframe tbody tr th {\n",
       "        vertical-align: top;\n",
       "    }\n",
       "\n",
       "    .dataframe thead th {\n",
       "        text-align: right;\n",
       "    }\n",
       "</style>\n",
       "<table border=\"1\" class=\"dataframe\">\n",
       "  <thead>\n",
       "    <tr style=\"text-align: right;\">\n",
       "      <th>Élément</th>\n",
       "      <th>Code zone</th>\n",
       "      <th>Zone</th>\n",
       "      <th>Code Produit</th>\n",
       "      <th>Produit</th>\n",
       "      <th>Origine</th>\n",
       "      <th>Code année</th>\n",
       "      <th>Année</th>\n",
       "      <th>Aliments pour animaux</th>\n",
       "      <th>Autres utilisations (non alimentaire)</th>\n",
       "      <th>Disponibilité alimentaire (Kcal/personne/jour)</th>\n",
       "      <th>Disponibilité alimentaire en quantité (kg/personne/an)</th>\n",
       "      <th>Disponibilité de matière grasse en quantité (g/personne/jour)</th>\n",
       "      <th>Disponibilité de protéines en quantité (g/personne/jour)</th>\n",
       "      <th>Disponibilité intérieure</th>\n",
       "      <th>Exportations - Quantité</th>\n",
       "      <th>Importations - Quantité</th>\n",
       "      <th>Nourriture</th>\n",
       "      <th>Pertes</th>\n",
       "      <th>Production</th>\n",
       "      <th>Semences</th>\n",
       "      <th>Traitement</th>\n",
       "      <th>Variation de stock</th>\n",
       "    </tr>\n",
       "  </thead>\n",
       "  <tbody>\n",
       "    <tr>\n",
       "      <th>4144</th>\n",
       "      <td>68</td>\n",
       "      <td>France</td>\n",
       "      <td>2511</td>\n",
       "      <td>Blé</td>\n",
       "      <td>Vegetal</td>\n",
       "      <td>2013</td>\n",
       "      <td>2013</td>\n",
       "      <td>7822.0</td>\n",
       "      <td>2824.0</td>\n",
       "      <td>811.0</td>\n",
       "      <td>108.43</td>\n",
       "      <td>4.2</td>\n",
       "      <td>25.99</td>\n",
       "      <td>20298.0</td>\n",
       "      <td>21502.0</td>\n",
       "      <td>2055.0</td>\n",
       "      <td>6971.0</td>\n",
       "      <td>358.0</td>\n",
       "      <td>38614.0</td>\n",
       "      <td>748.0</td>\n",
       "      <td>1575.0</td>\n",
       "      <td>1131.0</td>\n",
       "    </tr>\n",
       "  </tbody>\n",
       "</table>\n",
       "</div>"
      ],
      "text/plain": [
       "Élément  Code zone    Zone  Code Produit Produit  Origine  Code année  Année  \\\n",
       "4144            68  France          2511     Blé  Vegetal        2013   2013   \n",
       "\n",
       "Élément  Aliments pour animaux  Autres utilisations (non alimentaire)  \\\n",
       "4144                    7822.0                                 2824.0   \n",
       "\n",
       "Élément  Disponibilité alimentaire (Kcal/personne/jour)  \\\n",
       "4144                                              811.0   \n",
       "\n",
       "Élément  Disponibilité alimentaire en quantité (kg/personne/an)  \\\n",
       "4144                                                108.43        \n",
       "\n",
       "Élément  Disponibilité de matière grasse en quantité (g/personne/jour)  \\\n",
       "4144                                                   4.2               \n",
       "\n",
       "Élément  Disponibilité de protéines en quantité (g/personne/jour)  \\\n",
       "4144                                                 25.99          \n",
       "\n",
       "Élément  Disponibilité intérieure  Exportations - Quantité  \\\n",
       "4144                      20298.0                  21502.0   \n",
       "\n",
       "Élément  Importations - Quantité  Nourriture  Pertes  Production  Semences  \\\n",
       "4144                      2055.0      6971.0   358.0     38614.0     748.0   \n",
       "\n",
       "Élément  Traitement  Variation de stock  \n",
       "4144         1575.0              1131.0  "
      ]
     },
     "execution_count": 29,
     "metadata": {},
     "output_type": "execute_result"
    }
   ],
   "source": [
    "# exemple avec le blé en France\n",
    "ble_france = animal_vegetal.loc[(animal_vegetal['Produit'] == 'Blé') & (animal_vegetal['Zone'] == 'France')]\n",
    "ble_france.head(1)"
   ]
  },
  {
   "cell_type": "code",
   "execution_count": 68,
   "metadata": {},
   "outputs": [
    {
     "name": "stdout",
     "output_type": "stream",
     "text": [
      "4144    2.029800e+10\n",
      "Name: Disponibilité intérieure, dtype: float64\n",
      "--------------------\n",
      "4144    2.029800e+10\n",
      "dtype: float64\n",
      "--------------------\n",
      "4144    2.029800e+10\n",
      "dtype: float64\n"
     ]
    }
   ],
   "source": [
    "print(ble_france['Disponibilité intérieure'] * 1000000)\n",
    "print('-'*20)\n",
    "\n",
    "print(# Production + Importation + Variation de stock - Exportations\n",
    "(ble_france['Production'] + ble_france['Importations - Quantité'] + ble_france['Variation de stock'] - ble_france['Exportations - Quantité']) * 1000000) \n",
    "print('-'*20) \n",
    "\n",
    "print(# Aliments pour animaux + Semences + Pertes + Traitement + Autres Utilisations (non alimentaire) + Nourriture\n",
    "(ble_france['Aliments pour animaux'] + ble_france['Semences'] + ble_france['Pertes'] + ble_france['Traitement'] + ble_france['Autres utilisations (non alimentaire)'] + ble_france['Nourriture']) * 1000000)"
   ]
  },
  {
   "cell_type": "markdown",
   "metadata": {},
   "source": [
    "###### la formule est :\n",
    "- disponibilité Intérieure = (Nourriture + Nourriture Animaux + Semences + Pertes + Traitements + Autres Utilisations) = (Production + Importation + Variation DeStock) − Exportation"
   ]
  },
  {
   "cell_type": "markdown",
   "metadata": {},
   "source": [
    "### Question 3 \n",
    "\n",
    "- Calculez (pour chaque pays et chaque produit) la disponibilité alimentaire en kcal puis en kg de protéines.\n",
    "\n",
    "Vous ferez cela à partir de ces informations :\n",
    "\n",
    "- Population de chaque pays ;\n",
    "- Disponibilité alimentaire donnée pour chaque produit et pour chaque pays en kcal/personne/jour.\n",
    "- Disponibilité alimentaire en protéines donnée pour chaque produit et pour chaque pays en g/personne/jour."
   ]
  },
  {
   "cell_type": "code",
   "execution_count": 31,
   "metadata": {},
   "outputs": [
    {
     "data": {
      "text/html": [
       "<div>\n",
       "<style scoped>\n",
       "    .dataframe tbody tr th:only-of-type {\n",
       "        vertical-align: middle;\n",
       "    }\n",
       "\n",
       "    .dataframe tbody tr th {\n",
       "        vertical-align: top;\n",
       "    }\n",
       "\n",
       "    .dataframe thead th {\n",
       "        text-align: right;\n",
       "    }\n",
       "</style>\n",
       "<table border=\"1\" class=\"dataframe\">\n",
       "  <thead>\n",
       "    <tr style=\"text-align: right;\">\n",
       "      <th></th>\n",
       "      <th>Code zone</th>\n",
       "      <th>Zone</th>\n",
       "      <th>Code Produit</th>\n",
       "      <th>Produit</th>\n",
       "      <th>Origine</th>\n",
       "      <th>Code année</th>\n",
       "      <th>Année</th>\n",
       "      <th>Aliments pour animaux</th>\n",
       "      <th>Autres utilisations (non alimentaire)</th>\n",
       "      <th>Disponibilité alimentaire (Kcal/personne/jour)</th>\n",
       "      <th>Disponibilité alimentaire en quantité (kg/personne/an)</th>\n",
       "      <th>Disponibilité de matière grasse en quantité (g/personne/jour)</th>\n",
       "      <th>Disponibilité de protéines en quantité (g/personne/jour)</th>\n",
       "      <th>Disponibilité intérieure</th>\n",
       "      <th>Exportations - Quantité</th>\n",
       "      <th>Importations - Quantité</th>\n",
       "      <th>Nourriture</th>\n",
       "      <th>Pertes</th>\n",
       "      <th>Production</th>\n",
       "      <th>Semences</th>\n",
       "      <th>Traitement</th>\n",
       "      <th>Variation de stock</th>\n",
       "      <th>Population</th>\n",
       "    </tr>\n",
       "  </thead>\n",
       "  <tbody>\n",
       "    <tr>\n",
       "      <th>0</th>\n",
       "      <td>1</td>\n",
       "      <td>Arménie</td>\n",
       "      <td>2511</td>\n",
       "      <td>Blé</td>\n",
       "      <td>Vegetal</td>\n",
       "      <td>2013</td>\n",
       "      <td>2013</td>\n",
       "      <td>93.0</td>\n",
       "      <td>0.0</td>\n",
       "      <td>1024.0</td>\n",
       "      <td>130.60</td>\n",
       "      <td>3.60</td>\n",
       "      <td>30.52</td>\n",
       "      <td>554.0</td>\n",
       "      <td>1.0</td>\n",
       "      <td>361.0</td>\n",
       "      <td>389.0</td>\n",
       "      <td>32.0</td>\n",
       "      <td>312.0</td>\n",
       "      <td>30.0</td>\n",
       "      <td>10.0</td>\n",
       "      <td>-118.0</td>\n",
       "      <td>2977</td>\n",
       "    </tr>\n",
       "    <tr>\n",
       "      <th>1</th>\n",
       "      <td>1</td>\n",
       "      <td>Arménie</td>\n",
       "      <td>2513</td>\n",
       "      <td>Orge</td>\n",
       "      <td>Vegetal</td>\n",
       "      <td>2013</td>\n",
       "      <td>2013</td>\n",
       "      <td>137.0</td>\n",
       "      <td>26.0</td>\n",
       "      <td>0.0</td>\n",
       "      <td>0.00</td>\n",
       "      <td>0.00</td>\n",
       "      <td>0.00</td>\n",
       "      <td>198.0</td>\n",
       "      <td>0.0</td>\n",
       "      <td>9.0</td>\n",
       "      <td>0.0</td>\n",
       "      <td>15.0</td>\n",
       "      <td>189.0</td>\n",
       "      <td>14.0</td>\n",
       "      <td>7.0</td>\n",
       "      <td>0.0</td>\n",
       "      <td>2977</td>\n",
       "    </tr>\n",
       "    <tr>\n",
       "      <th>2</th>\n",
       "      <td>1</td>\n",
       "      <td>Arménie</td>\n",
       "      <td>2514</td>\n",
       "      <td>Maïs</td>\n",
       "      <td>Vegetal</td>\n",
       "      <td>2013</td>\n",
       "      <td>2013</td>\n",
       "      <td>96.0</td>\n",
       "      <td>NaN</td>\n",
       "      <td>0.0</td>\n",
       "      <td>0.03</td>\n",
       "      <td>NaN</td>\n",
       "      <td>0.01</td>\n",
       "      <td>102.0</td>\n",
       "      <td>NaN</td>\n",
       "      <td>82.0</td>\n",
       "      <td>0.0</td>\n",
       "      <td>7.0</td>\n",
       "      <td>21.0</td>\n",
       "      <td>0.0</td>\n",
       "      <td>NaN</td>\n",
       "      <td>NaN</td>\n",
       "      <td>2977</td>\n",
       "    </tr>\n",
       "    <tr>\n",
       "      <th>3</th>\n",
       "      <td>1</td>\n",
       "      <td>Arménie</td>\n",
       "      <td>2515</td>\n",
       "      <td>Seigle</td>\n",
       "      <td>Vegetal</td>\n",
       "      <td>2013</td>\n",
       "      <td>2013</td>\n",
       "      <td>1.0</td>\n",
       "      <td>NaN</td>\n",
       "      <td>1.0</td>\n",
       "      <td>0.12</td>\n",
       "      <td>0.00</td>\n",
       "      <td>0.02</td>\n",
       "      <td>1.0</td>\n",
       "      <td>NaN</td>\n",
       "      <td>0.0</td>\n",
       "      <td>0.0</td>\n",
       "      <td>0.0</td>\n",
       "      <td>1.0</td>\n",
       "      <td>0.0</td>\n",
       "      <td>NaN</td>\n",
       "      <td>0.0</td>\n",
       "      <td>2977</td>\n",
       "    </tr>\n",
       "    <tr>\n",
       "      <th>4</th>\n",
       "      <td>1</td>\n",
       "      <td>Arménie</td>\n",
       "      <td>2516</td>\n",
       "      <td>Avoine</td>\n",
       "      <td>Vegetal</td>\n",
       "      <td>2013</td>\n",
       "      <td>2013</td>\n",
       "      <td>4.0</td>\n",
       "      <td>NaN</td>\n",
       "      <td>2.0</td>\n",
       "      <td>0.37</td>\n",
       "      <td>0.03</td>\n",
       "      <td>0.09</td>\n",
       "      <td>6.0</td>\n",
       "      <td>NaN</td>\n",
       "      <td>1.0</td>\n",
       "      <td>1.0</td>\n",
       "      <td>0.0</td>\n",
       "      <td>5.0</td>\n",
       "      <td>0.0</td>\n",
       "      <td>NaN</td>\n",
       "      <td>NaN</td>\n",
       "      <td>2977</td>\n",
       "    </tr>\n",
       "  </tbody>\n",
       "</table>\n",
       "</div>"
      ],
      "text/plain": [
       "   Code zone     Zone  Code Produit Produit  Origine  Code année  Année  \\\n",
       "0          1  Arménie          2511     Blé  Vegetal        2013   2013   \n",
       "1          1  Arménie          2513    Orge  Vegetal        2013   2013   \n",
       "2          1  Arménie          2514    Maïs  Vegetal        2013   2013   \n",
       "3          1  Arménie          2515  Seigle  Vegetal        2013   2013   \n",
       "4          1  Arménie          2516  Avoine  Vegetal        2013   2013   \n",
       "\n",
       "   Aliments pour animaux  Autres utilisations (non alimentaire)  \\\n",
       "0                   93.0                                    0.0   \n",
       "1                  137.0                                   26.0   \n",
       "2                   96.0                                    NaN   \n",
       "3                    1.0                                    NaN   \n",
       "4                    4.0                                    NaN   \n",
       "\n",
       "   Disponibilité alimentaire (Kcal/personne/jour)  \\\n",
       "0                                          1024.0   \n",
       "1                                             0.0   \n",
       "2                                             0.0   \n",
       "3                                             1.0   \n",
       "4                                             2.0   \n",
       "\n",
       "   Disponibilité alimentaire en quantité (kg/personne/an)  \\\n",
       "0                                             130.60        \n",
       "1                                               0.00        \n",
       "2                                               0.03        \n",
       "3                                               0.12        \n",
       "4                                               0.37        \n",
       "\n",
       "   Disponibilité de matière grasse en quantité (g/personne/jour)  \\\n",
       "0                                               3.60               \n",
       "1                                               0.00               \n",
       "2                                                NaN               \n",
       "3                                               0.00               \n",
       "4                                               0.03               \n",
       "\n",
       "   Disponibilité de protéines en quantité (g/personne/jour)  \\\n",
       "0                                              30.52          \n",
       "1                                               0.00          \n",
       "2                                               0.01          \n",
       "3                                               0.02          \n",
       "4                                               0.09          \n",
       "\n",
       "   Disponibilité intérieure  Exportations - Quantité  Importations - Quantité  \\\n",
       "0                     554.0                      1.0                    361.0   \n",
       "1                     198.0                      0.0                      9.0   \n",
       "2                     102.0                      NaN                     82.0   \n",
       "3                       1.0                      NaN                      0.0   \n",
       "4                       6.0                      NaN                      1.0   \n",
       "\n",
       "   Nourriture  Pertes  Production  Semences  Traitement  Variation de stock  \\\n",
       "0       389.0    32.0       312.0      30.0        10.0              -118.0   \n",
       "1         0.0    15.0       189.0      14.0         7.0                 0.0   \n",
       "2         0.0     7.0        21.0       0.0         NaN                 NaN   \n",
       "3         0.0     0.0         1.0       0.0         NaN                 0.0   \n",
       "4         1.0     0.0         5.0       0.0         NaN                 NaN   \n",
       "\n",
       "   Population  \n",
       "0        2977  \n",
       "1        2977  \n",
       "2        2977  \n",
       "3        2977  \n",
       "4        2977  "
      ]
     },
     "execution_count": 31,
     "metadata": {},
     "output_type": "execute_result"
    }
   ],
   "source": [
    "population.rename(columns={'Valeur': 'Population'}, inplace=True) # on renomme la colonne 'valeur' par 'population'.\n",
    "population = population[['Code zone', 'Population', 'Année']]\n",
    "\n",
    "# On va faire une jointure entre le fichier population et le fichier animal_vegetal en code zone et année\n",
    "# jointure interne\n",
    "disponibilite_alimentaire_kcal_kg = pd.merge(animal_vegetal, population, on = ['Code zone', 'Année'], how = 'inner')\n",
    "disponibilite_alimentaire_kcal_kg.head()"
   ]
  },
  {
   "cell_type": "markdown",
   "metadata": {},
   "source": [
    "##### 3-1 Disponibilité alimentaire en kcal"
   ]
  },
  {
   "cell_type": "code",
   "execution_count": 32,
   "metadata": {},
   "outputs": [],
   "source": [
    "# On va calculer la disponibilité alimentaire en calories (kcal)\n",
    "disponibilite_alimentaire_kcal_kg['Dispo_alimentaire_kcal'] = ((disponibilite_alimentaire_kcal_kg['Disponibilité alimentaire (Kcal/personne/jour)'] *\n",
    "                                                               disponibilite_alimentaire_kcal_kg['Population'] * 1000) * 365)\n"
   ]
  },
  {
   "cell_type": "markdown",
   "metadata": {},
   "source": [
    "##### 3-2 Disponibilité alimentaire en kg de protéines"
   ]
  },
  {
   "cell_type": "code",
   "execution_count": 33,
   "metadata": {},
   "outputs": [],
   "source": [
    "# On va calculer la disponibilité alimentaire en protéines (kg)\n",
    "disponibilite_alimentaire_kcal_kg['Dispo_alimentaire_kg'] = ((disponibilite_alimentaire_kcal_kg['Disponibilité de protéines en quantité (g/personne/jour)'] / 1000) *\n",
    "                                                               (disponibilite_alimentaire_kcal_kg['Population']  * 1000) * 365)"
   ]
  },
  {
   "cell_type": "code",
   "execution_count": 34,
   "metadata": {},
   "outputs": [
    {
     "data": {
      "application/vnd.jupyter.widget-view+json": {
       "model_id": "3944d7116b7f49538828d80280ce558c",
       "version_major": 2,
       "version_minor": 0
      },
      "text/plain": [
       "interactive(children=(Dropdown(description='pays', options=('Afghanistan', 'Afrique du Sud', 'Albanie', 'Algér…"
      ]
     },
     "metadata": {},
     "output_type": "display_data"
    }
   ],
   "source": [
    "import ipywidgets as widgets\n",
    "from ipywidgets import interact, interact_manual\n",
    "\n",
    "pays = sorted(list(disponibilite_alimentaire_kcal_kg['Zone'].unique()))\n",
    "produits = sorted(list(disponibilite_alimentaire_kcal_kg['Produit'].unique()))\n",
    "\n",
    "@interact\n",
    "def pproduit_par_pay(pays=pays, produit=produits):\n",
    "    return disponibilite_alimentaire_kcal_kg.loc[(disponibilite_alimentaire_kcal_kg['Zone'] == pays) & (disponibilite_alimentaire_kcal_kg['Produit'] == produit)]"
   ]
  },
  {
   "cell_type": "markdown",
   "metadata": {},
   "source": [
    "### Question 4 \n",
    "A partir de ces dernières informations, et à partir du poids de la disponibilité alimentaire (pour chaque pays et chaque produit), calculez pour chaque produit le ratio \"énergie/poids\", que vous donnerez en kcal/kg. Vous pouvez vérifier la cohérence de votre calcul en comparant ce ratio aux données disponibles sur internet, par exemple en cherchant la valeur calorique d'un oeuf.\n",
    "\n",
    "- Indication : La disponibilité alimentaire en kcal/personne/jour est calculée par la FAO en multipliant la quantité Nourriture par le ratio énergie/poids (en kcal/kg), puis en le divisant par la population du pays puis par 365. Ici, on vous demande juste de retrouver le ratio énergie/poids que la FAO a utilisé dans son calcul."
   ]
  },
  {
   "cell_type": "code",
   "execution_count": 35,
   "metadata": {},
   "outputs": [],
   "source": [
    "# fonction pour calculer les ratios\n",
    "def cal_ratio_kcal(x):\n",
    "    import math\n",
    "    if (x['Dispo_alimentaire_kcal'] != 0) and (x['Nourriture'] != 0):\n",
    "        ratio = x['Dispo_alimentaire_kcal'] / (x['Nourriture'] * 1000000)\n",
    "    else:\n",
    "        ratio = math.nan\n",
    "    return ratio\n",
    "\n",
    "def cal_ratio_protein(x):\n",
    "    import math\n",
    "    if (x['Dispo_alimentaire_kg'] != 0) and (x['Nourriture'] != 0):\n",
    "        ratio = x['Dispo_alimentaire_kg'] / (x['Nourriture'] * 1000000) * 100\n",
    "    else:\n",
    "        ratio = math.nan\n",
    "    return ratio   "
   ]
  },
  {
   "cell_type": "code",
   "execution_count": 36,
   "metadata": {},
   "outputs": [
    {
     "data": {
      "text/html": [
       "<div>\n",
       "<style scoped>\n",
       "    .dataframe tbody tr th:only-of-type {\n",
       "        vertical-align: middle;\n",
       "    }\n",
       "\n",
       "    .dataframe tbody tr th {\n",
       "        vertical-align: top;\n",
       "    }\n",
       "\n",
       "    .dataframe thead th {\n",
       "        text-align: right;\n",
       "    }\n",
       "</style>\n",
       "<table border=\"1\" class=\"dataframe\">\n",
       "  <thead>\n",
       "    <tr style=\"text-align: right;\">\n",
       "      <th></th>\n",
       "      <th>Code zone</th>\n",
       "      <th>Zone</th>\n",
       "      <th>Code Produit</th>\n",
       "      <th>Produit</th>\n",
       "      <th>Origine</th>\n",
       "      <th>Code année</th>\n",
       "      <th>Année</th>\n",
       "      <th>Aliments pour animaux</th>\n",
       "      <th>Autres utilisations (non alimentaire)</th>\n",
       "      <th>Disponibilité alimentaire (Kcal/personne/jour)</th>\n",
       "      <th>Disponibilité alimentaire en quantité (kg/personne/an)</th>\n",
       "      <th>Disponibilité de matière grasse en quantité (g/personne/jour)</th>\n",
       "      <th>Disponibilité de protéines en quantité (g/personne/jour)</th>\n",
       "      <th>Disponibilité intérieure</th>\n",
       "      <th>Exportations - Quantité</th>\n",
       "      <th>Importations - Quantité</th>\n",
       "      <th>Nourriture</th>\n",
       "      <th>Pertes</th>\n",
       "      <th>Production</th>\n",
       "      <th>Semences</th>\n",
       "      <th>Traitement</th>\n",
       "      <th>Variation de stock</th>\n",
       "      <th>Population</th>\n",
       "      <th>Dispo_alimentaire_kcal</th>\n",
       "      <th>Dispo_alimentaire_kg</th>\n",
       "      <th>ratio_kcal</th>\n",
       "    </tr>\n",
       "  </thead>\n",
       "  <tbody>\n",
       "    <tr>\n",
       "      <th>0</th>\n",
       "      <td>1</td>\n",
       "      <td>Arménie</td>\n",
       "      <td>2511</td>\n",
       "      <td>Blé</td>\n",
       "      <td>Vegetal</td>\n",
       "      <td>2013</td>\n",
       "      <td>2013</td>\n",
       "      <td>93.0</td>\n",
       "      <td>0.0</td>\n",
       "      <td>1024.0</td>\n",
       "      <td>130.6</td>\n",
       "      <td>3.6</td>\n",
       "      <td>30.52</td>\n",
       "      <td>554.0</td>\n",
       "      <td>1.0</td>\n",
       "      <td>361.0</td>\n",
       "      <td>389.0</td>\n",
       "      <td>32.0</td>\n",
       "      <td>312.0</td>\n",
       "      <td>30.0</td>\n",
       "      <td>10.0</td>\n",
       "      <td>-118.0</td>\n",
       "      <td>2977</td>\n",
       "      <td>1.112684e+12</td>\n",
       "      <td>33163184.6</td>\n",
       "      <td>2860.368946</td>\n",
       "    </tr>\n",
       "  </tbody>\n",
       "</table>\n",
       "</div>"
      ],
      "text/plain": [
       "   Code zone     Zone  Code Produit Produit  Origine  Code année  Année  \\\n",
       "0          1  Arménie          2511     Blé  Vegetal        2013   2013   \n",
       "\n",
       "   Aliments pour animaux  Autres utilisations (non alimentaire)  \\\n",
       "0                   93.0                                    0.0   \n",
       "\n",
       "   Disponibilité alimentaire (Kcal/personne/jour)  \\\n",
       "0                                          1024.0   \n",
       "\n",
       "   Disponibilité alimentaire en quantité (kg/personne/an)  \\\n",
       "0                                              130.6        \n",
       "\n",
       "   Disponibilité de matière grasse en quantité (g/personne/jour)  \\\n",
       "0                                                3.6               \n",
       "\n",
       "   Disponibilité de protéines en quantité (g/personne/jour)  \\\n",
       "0                                              30.52          \n",
       "\n",
       "   Disponibilité intérieure  Exportations - Quantité  Importations - Quantité  \\\n",
       "0                     554.0                      1.0                    361.0   \n",
       "\n",
       "   Nourriture  Pertes  Production  Semences  Traitement  Variation de stock  \\\n",
       "0       389.0    32.0       312.0      30.0        10.0              -118.0   \n",
       "\n",
       "   Population  Dispo_alimentaire_kcal  Dispo_alimentaire_kg   ratio_kcal  \n",
       "0        2977            1.112684e+12            33163184.6  2860.368946  "
      ]
     },
     "execution_count": 36,
     "metadata": {},
     "output_type": "execute_result"
    }
   ],
   "source": [
    "disponibilite_alimentaire_kcal_kg['ratio_kcal'] = disponibilite_alimentaire_kcal_kg.apply(lambda x: cal_ratio_kcal(x), axis=1)\n",
    "disponibilite_alimentaire_kcal_kg.head(1)"
   ]
  },
  {
   "cell_type": "code",
   "execution_count": 37,
   "metadata": {},
   "outputs": [
    {
     "name": "stdout",
     "output_type": "stream",
     "text": [
      "La valeur calorique d'un oeuf est ici de 1345.3 /kg. Wikipédia donne pour exemple une valeur calorique de 147kcal/100g.\n"
     ]
    }
   ],
   "source": [
    "# verification avec les oeufs (wikipedia 147 kcal)\n",
    "oeuf = disponibilite_alimentaire_kcal_kg[(disponibilite_alimentaire_kcal_kg['Produit'] == 'Oeufs')]['ratio_kcal'].mean()\n",
    "print(\"La valeur calorique d'un oeuf est ici de\",round(oeuf, 2),\"/kg. Wikipédia donne pour exemple une valeur calorique de 147kcal/100g.\")"
   ]
  },
  {
   "cell_type": "code",
   "execution_count": 38,
   "metadata": {},
   "outputs": [
    {
     "data": {
      "text/html": [
       "<div>\n",
       "<style scoped>\n",
       "    .dataframe tbody tr th:only-of-type {\n",
       "        vertical-align: middle;\n",
       "    }\n",
       "\n",
       "    .dataframe tbody tr th {\n",
       "        vertical-align: top;\n",
       "    }\n",
       "\n",
       "    .dataframe thead th {\n",
       "        text-align: right;\n",
       "    }\n",
       "</style>\n",
       "<table border=\"1\" class=\"dataframe\">\n",
       "  <thead>\n",
       "    <tr style=\"text-align: right;\">\n",
       "      <th></th>\n",
       "      <th>Code zone</th>\n",
       "      <th>Zone</th>\n",
       "      <th>Code Produit</th>\n",
       "      <th>Produit</th>\n",
       "      <th>Origine</th>\n",
       "      <th>Code année</th>\n",
       "      <th>Année</th>\n",
       "      <th>Aliments pour animaux</th>\n",
       "      <th>Autres utilisations (non alimentaire)</th>\n",
       "      <th>Disponibilité alimentaire (Kcal/personne/jour)</th>\n",
       "      <th>Disponibilité alimentaire en quantité (kg/personne/an)</th>\n",
       "      <th>Disponibilité de matière grasse en quantité (g/personne/jour)</th>\n",
       "      <th>Disponibilité de protéines en quantité (g/personne/jour)</th>\n",
       "      <th>Disponibilité intérieure</th>\n",
       "      <th>Exportations - Quantité</th>\n",
       "      <th>Importations - Quantité</th>\n",
       "      <th>Nourriture</th>\n",
       "      <th>Pertes</th>\n",
       "      <th>Production</th>\n",
       "      <th>Semences</th>\n",
       "      <th>Traitement</th>\n",
       "      <th>Variation de stock</th>\n",
       "      <th>Population</th>\n",
       "      <th>Dispo_alimentaire_kcal</th>\n",
       "      <th>Dispo_alimentaire_kg</th>\n",
       "      <th>ratio_kcal</th>\n",
       "      <th>ratio_protein_%</th>\n",
       "    </tr>\n",
       "  </thead>\n",
       "  <tbody>\n",
       "    <tr>\n",
       "      <th>0</th>\n",
       "      <td>1</td>\n",
       "      <td>Arménie</td>\n",
       "      <td>2511</td>\n",
       "      <td>Blé</td>\n",
       "      <td>Vegetal</td>\n",
       "      <td>2013</td>\n",
       "      <td>2013</td>\n",
       "      <td>93.0</td>\n",
       "      <td>0.0</td>\n",
       "      <td>1024.0</td>\n",
       "      <td>130.6</td>\n",
       "      <td>3.6</td>\n",
       "      <td>30.52</td>\n",
       "      <td>554.0</td>\n",
       "      <td>1.0</td>\n",
       "      <td>361.0</td>\n",
       "      <td>389.0</td>\n",
       "      <td>32.0</td>\n",
       "      <td>312.0</td>\n",
       "      <td>30.0</td>\n",
       "      <td>10.0</td>\n",
       "      <td>-118.0</td>\n",
       "      <td>2977</td>\n",
       "      <td>1.112684e+12</td>\n",
       "      <td>33163184.6</td>\n",
       "      <td>2860.368946</td>\n",
       "      <td>8.52524</td>\n",
       "    </tr>\n",
       "  </tbody>\n",
       "</table>\n",
       "</div>"
      ],
      "text/plain": [
       "   Code zone     Zone  Code Produit Produit  Origine  Code année  Année  \\\n",
       "0          1  Arménie          2511     Blé  Vegetal        2013   2013   \n",
       "\n",
       "   Aliments pour animaux  Autres utilisations (non alimentaire)  \\\n",
       "0                   93.0                                    0.0   \n",
       "\n",
       "   Disponibilité alimentaire (Kcal/personne/jour)  \\\n",
       "0                                          1024.0   \n",
       "\n",
       "   Disponibilité alimentaire en quantité (kg/personne/an)  \\\n",
       "0                                              130.6        \n",
       "\n",
       "   Disponibilité de matière grasse en quantité (g/personne/jour)  \\\n",
       "0                                                3.6               \n",
       "\n",
       "   Disponibilité de protéines en quantité (g/personne/jour)  \\\n",
       "0                                              30.52          \n",
       "\n",
       "   Disponibilité intérieure  Exportations - Quantité  Importations - Quantité  \\\n",
       "0                     554.0                      1.0                    361.0   \n",
       "\n",
       "   Nourriture  Pertes  Production  Semences  Traitement  Variation de stock  \\\n",
       "0       389.0    32.0       312.0      30.0        10.0              -118.0   \n",
       "\n",
       "   Population  Dispo_alimentaire_kcal  Dispo_alimentaire_kg   ratio_kcal  \\\n",
       "0        2977            1.112684e+12            33163184.6  2860.368946   \n",
       "\n",
       "   ratio_protein_%  \n",
       "0          8.52524  "
      ]
     },
     "execution_count": 38,
     "metadata": {},
     "output_type": "execute_result"
    }
   ],
   "source": [
    "# ratio protéins\n",
    "disponibilite_alimentaire_kcal_kg['ratio_protein_%'] = disponibilite_alimentaire_kcal_kg.apply(lambda x: cal_ratio_protein(x), axis=1)\n",
    "disponibilite_alimentaire_kcal_kg.head(1)"
   ]
  },
  {
   "cell_type": "code",
   "execution_count": 39,
   "metadata": {},
   "outputs": [
    {
     "name": "stdout",
     "output_type": "stream",
     "text": [
      "La teneur en protéines de l'avoine est ici de 8.45 g. Wikipédia donne pour exemple une teneur en protéines de 10,7g/100g.\n"
     ]
    }
   ],
   "source": [
    "# Vérification avec l'avoine (10,7g pour 100g sur Wikipédia)\n",
    "avoine = disponibilite_alimentaire_kcal_kg[(disponibilite_alimentaire_kcal_kg['Produit'] == 'Avoine')]['ratio_protein_%'].mean()\n",
    "print(\"La teneur en protéines de l'avoine est ici de\",round(avoine, 2),\"g. Wikipédia donne pour exemple une teneur en protéines de 10,7g/100g.\")"
   ]
  },
  {
   "cell_type": "markdown",
   "metadata": {},
   "source": [
    "### Question 5 \n",
    "\n",
    "Citez 5 aliments parmi les 20 aliments les plus caloriques, en utilisant le ratio énergie/poids.\n",
    "Étonnamment, il arrive que ce ratio soit différent en fonction du pays. Il faudra donc réaliser pour chaque aliment une moyenne sur les différents pays. Vous créerez donc une nouvelle table grâce à une agrégation. Attention à bien retirer les valeurs égales à 0 afin de ne pas fausser le calcul de la moyenne.\n",
    "Citez 5 aliments parmi les 20 aliments les plus riches en protéines."
   ]
  },
  {
   "cell_type": "markdown",
   "metadata": {},
   "source": [
    "###### 5 - 1 les 5 produits les plus caloriques"
   ]
  },
  {
   "cell_type": "code",
   "execution_count": 40,
   "metadata": {},
   "outputs": [
    {
     "data": {
      "text/html": [
       "<div>\n",
       "<style scoped>\n",
       "    .dataframe tbody tr th:only-of-type {\n",
       "        vertical-align: middle;\n",
       "    }\n",
       "\n",
       "    .dataframe tbody tr th {\n",
       "        vertical-align: top;\n",
       "    }\n",
       "\n",
       "    .dataframe thead th {\n",
       "        text-align: right;\n",
       "    }\n",
       "</style>\n",
       "<table border=\"1\" class=\"dataframe\">\n",
       "  <thead>\n",
       "    <tr style=\"text-align: right;\">\n",
       "      <th></th>\n",
       "      <th>ratio_kcal</th>\n",
       "    </tr>\n",
       "    <tr>\n",
       "      <th>Produit</th>\n",
       "      <th></th>\n",
       "    </tr>\n",
       "  </thead>\n",
       "  <tbody>\n",
       "    <tr>\n",
       "      <th>Huiles de Foie de Poisso</th>\n",
       "      <td>9982.932500</td>\n",
       "    </tr>\n",
       "    <tr>\n",
       "      <th>Huile de Sésame</th>\n",
       "      <td>9433.744729</td>\n",
       "    </tr>\n",
       "    <tr>\n",
       "      <th>Huile de Son de Riz</th>\n",
       "      <td>9361.549883</td>\n",
       "    </tr>\n",
       "    <tr>\n",
       "      <th>Huiles de Poissons</th>\n",
       "      <td>9003.715504</td>\n",
       "    </tr>\n",
       "    <tr>\n",
       "      <th>Huile d'Arachide</th>\n",
       "      <td>8935.765811</td>\n",
       "    </tr>\n",
       "  </tbody>\n",
       "</table>\n",
       "</div>"
      ],
      "text/plain": [
       "                           ratio_kcal\n",
       "Produit                              \n",
       "Huiles de Foie de Poisso  9982.932500\n",
       "Huile de Sésame           9433.744729\n",
       "Huile de Son de Riz       9361.549883\n",
       "Huiles de Poissons        9003.715504\n",
       "Huile d'Arachide          8935.765811"
      ]
     },
     "execution_count": 40,
     "metadata": {},
     "output_type": "execute_result"
    }
   ],
   "source": [
    "# nettoyer la valeur = à 0\n",
    "disponibilite_alimentaire_kcal_kg = disponibilite_alimentaire_kcal_kg.loc[disponibilite_alimentaire_kcal_kg['ratio_kcal'] != 0]\n",
    "\n",
    "# moyenne pour le 5 produits les plus caloriques\n",
    "top_5_produit_kcal = disponibilite_alimentaire_kcal_kg.loc[:,['Produit', 'ratio_kcal']].groupby('Produit').mean()\n",
    "top_5_produit_kcal = top_5_produit_kcal.sort_values(by='ratio_kcal', ascending=False)\n",
    "top_5_produit_kcal.head()"
   ]
  },
  {
   "cell_type": "markdown",
   "metadata": {},
   "source": [
    "###### 5 - 2 Les 5 aliments les plus protéinés"
   ]
  },
  {
   "cell_type": "code",
   "execution_count": 41,
   "metadata": {},
   "outputs": [
    {
     "data": {
      "text/html": [
       "<div>\n",
       "<style scoped>\n",
       "    .dataframe tbody tr th:only-of-type {\n",
       "        vertical-align: middle;\n",
       "    }\n",
       "\n",
       "    .dataframe tbody tr th {\n",
       "        vertical-align: top;\n",
       "    }\n",
       "\n",
       "    .dataframe thead th {\n",
       "        text-align: right;\n",
       "    }\n",
       "</style>\n",
       "<table border=\"1\" class=\"dataframe\">\n",
       "  <thead>\n",
       "    <tr style=\"text-align: right;\">\n",
       "      <th></th>\n",
       "      <th>ratio_protein_%</th>\n",
       "    </tr>\n",
       "    <tr>\n",
       "      <th>Produit</th>\n",
       "      <th></th>\n",
       "    </tr>\n",
       "  </thead>\n",
       "  <tbody>\n",
       "    <tr>\n",
       "      <th>Graines Colza/Moutarde</th>\n",
       "      <td>28.536511</td>\n",
       "    </tr>\n",
       "    <tr>\n",
       "      <th>Soja</th>\n",
       "      <td>28.533053</td>\n",
       "    </tr>\n",
       "    <tr>\n",
       "      <th>Arachides Decortiquees</th>\n",
       "      <td>25.146613</td>\n",
       "    </tr>\n",
       "    <tr>\n",
       "      <th>Pois</th>\n",
       "      <td>22.324375</td>\n",
       "    </tr>\n",
       "    <tr>\n",
       "      <th>Légumineuses Autres</th>\n",
       "      <td>21.971635</td>\n",
       "    </tr>\n",
       "  </tbody>\n",
       "</table>\n",
       "</div>"
      ],
      "text/plain": [
       "                        ratio_protein_%\n",
       "Produit                                \n",
       "Graines Colza/Moutarde        28.536511\n",
       "Soja                          28.533053\n",
       "Arachides Decortiquees        25.146613\n",
       "Pois                          22.324375\n",
       "Légumineuses Autres           21.971635"
      ]
     },
     "execution_count": 41,
     "metadata": {},
     "output_type": "execute_result"
    }
   ],
   "source": [
    "# moyenne pour le 5 produits les plus protéines\n",
    "# on enleve les valeurs = à 0\n",
    "\n",
    "disponibilite_alimentaire_kcal_kg = disponibilite_alimentaire_kcal_kg.loc[disponibilite_alimentaire_kcal_kg['ratio_protein_%'] != 0]\n",
    "\n",
    "top_5_produit_protein = disponibilite_alimentaire_kcal_kg.loc[:,['Produit', 'ratio_protein_%']].groupby('Produit').mean()\n",
    "top_5_produit_protein = top_5_produit_protein.sort_values(by='ratio_protein_%', ascending=False)\n",
    "top_5_produit_protein.head()"
   ]
  },
  {
   "cell_type": "markdown",
   "metadata": {},
   "source": [
    "### Question 6\n",
    "\n",
    "Calculez, pour les produits végétaux uniquement, la disponibilité intérieure mondiale exprimée en kcal."
   ]
  },
  {
   "cell_type": "code",
   "execution_count": 42,
   "metadata": {},
   "outputs": [
    {
     "name": "stdout",
     "output_type": "stream",
     "text": [
      "Il y a 1.3764013420014768e+16 kcal d'origine végétale disponible dans le monde en 2013\n"
     ]
    }
   ],
   "source": [
    "# On va selectioner seulement les produits d'origine végétale\n",
    "produit_vegetal_mask = disponibilite_alimentaire_kcal_kg[disponibilite_alimentaire_kcal_kg['Origine'] == 'Vegetal'] # on fait une mask pour avoir que le produit végétaux\n",
    "\n",
    "#produit_vegetal_mask\n",
    "# on fait une jointure entre produit_vegetal_mask et les top_5_produit_kcal avec produit\n",
    "disponibilite_mondial_en_kcal = pd.merge(produit_vegetal_mask, top_5_produit_kcal, on = 'Produit', how = 'inner')\n",
    "#disponibilite_mondial_en_kcal.head()\n",
    "\n",
    "# renomme la colonne\n",
    "disponibilite_mondial_en_kcal.rename(columns={'ratio_kcal_y': 'ratio_kcal'}, inplace=True)\n",
    "# on supprime 'ratio_kcal_x'\n",
    "del disponibilite_mondial_en_kcal['ratio_kcal_x'] \n",
    "\n",
    "disponibilite_mondial_en_kcal['Dispo_alimentaire_mondial_kcal'] = (disponibilite_mondial_en_kcal['Disponibilité intérieure'] * 1000000)\\\n",
    "* disponibilite_mondial_en_kcal['ratio_kcal']\n",
    "\n",
    "dispo_vegetal_mondial_en_kcal = disponibilite_mondial_en_kcal.loc[:, 'Dispo_alimentaire_mondial_kcal'].sum()\n",
    "print(\"Il y a {} kcal d'origine végétale disponible dans le monde en 2013\".format((dispo_vegetal_mondial_en_kcal)))"
   ]
  },
  {
   "cell_type": "markdown",
   "metadata": {},
   "source": [
    "### Question 7\n",
    "\n",
    "Combien d'humains pourraient être nourris si toute la disponibilité intérieure mondiale de produits végétaux était utilisée pour de la nourriture ? Donnez les résultats en termes de calories, puis de protéines, et exprimez ensuite ces 2 résultats en pourcentage de la population mondiale."
   ]
  },
  {
   "cell_type": "markdown",
   "metadata": {},
   "source": [
    "##### 7 - 1 en kcal"
   ]
  },
  {
   "cell_type": "code",
   "execution_count": 43,
   "metadata": {},
   "outputs": [
    {
     "name": "stdout",
     "output_type": "stream",
     "text": [
      "Si toute la disponibilité intérieure mondiale de produits végétaux était utilisée pour la nourriture, elle pourrait subvenir aux besoins caloriques de 16.76 milliards de personnes soit 239.52 % de la population mondiale.\n"
     ]
    }
   ],
   "source": [
    "# on calcule la calorie moyenne entre homme et femme\n",
    "calorie_moyen = (1800 + 2700) / 2\n",
    "\n",
    "# personnes qu'on pourrait nourrir (kcal) avec les produits végétaux\n",
    "personnes_nourrir = dispo_vegetal_mondial_en_kcal / (calorie_moyen * 365)\n",
    "\n",
    "# en pourcentage\n",
    "porcentage_personnes_nourrir = (personnes_nourrir / population_total) * 100\n",
    "\n",
    "print(\"Si toute la disponibilité intérieure mondiale de produits végétaux était utilisée pour la nourriture, elle pourrait subvenir aux besoins caloriques de\",\n",
    "     round(personnes_nourrir/1e9,2), 'milliards de personnes soit',round(porcentage_personnes_nourrir,2),\"% de la population mondiale.\")"
   ]
  },
  {
   "cell_type": "markdown",
   "metadata": {},
   "source": [
    "###### 7 - 2 protéine"
   ]
  },
  {
   "cell_type": "code",
   "execution_count": 44,
   "metadata": {},
   "outputs": [
    {
     "name": "stdout",
     "output_type": "stream",
     "text": [
      "Si toute la disponibilité intérieure mondiale de produits végétaux était utilisée pour de la nourriture, elle pourrait subvenir aux besoins en protéines de 14.45 milliards de personnes soit 206.57 % de la population mondiale.\n"
     ]
    }
   ],
   "source": [
    "# On calcule la protéine moyenne entre homme et femme par jour\n",
    "protein_moyen = (50 + 60) / 2\n",
    "\n",
    "produit_vegetal_en_kg = produit_vegetal_mask.copy() # on fait une copie du mask \n",
    "\n",
    "# On fait la variable disponibilite en kg \n",
    "produit_vegetal_en_kg['Disponibilite_en_kg'] = produit_vegetal_en_kg['Disponibilité intérieure'] * 1000000 * (produit_vegetal_en_kg['ratio_protein_%'] / 100)\n",
    "\n",
    "# protéine totale\n",
    "protein = produit_vegetal_en_kg['Disponibilite_en_kg'].sum()\n",
    "\n",
    "# personne qu'on pourrait nourrir avec les protéines\n",
    "personnes_nourrir_protein = protein / (protein_moyen * .001 * 365)\n",
    "\n",
    "# en pourcentage\n",
    "porcentage_personne_nourrir_protein = (personnes_nourrir_protein / population_total) * 100\n",
    "\n",
    "print(\"Si toute la disponibilité intérieure mondiale de produits végétaux était utilisée pour de la nourriture, elle pourrait subvenir aux besoins en protéines de\",\n",
    "     round(personnes_nourrir_protein/1e9,2), 'milliards de personnes soit',round(porcentage_personne_nourrir_protein,2),\"% de la population mondiale.\")"
   ]
  },
  {
   "cell_type": "markdown",
   "metadata": {},
   "source": [
    "### Question 8\n",
    "\n",
    "Combien d'humains pourraient être nourris si toute la disponibilité alimentaire en produits végétaux la nourriture végétale destinée aux animaux et les pertes de produits végétaux étaient utilisés pour de la nourriture ? Donnez les résultats en termes de calories, puis de protéines, et exprimez ensuite ces 2 résultats en pourcentage de la population mondiale."
   ]
  },
  {
   "cell_type": "code",
   "execution_count": 45,
   "metadata": {},
   "outputs": [],
   "source": [
    "# calcul de la disponibilité alimentaire des produits végétaux\n",
    "# disponibilité aliments pour animaux, pertes et nourriture\n",
    "dispo_alimentaire_produit_vegetaux = disponibilite_alimentaire_kcal_kg.loc[disponibilite_alimentaire_kcal_kg['Origine'] == 'Vegetal'\\\n",
    ", ['Code zone', 'Zone', 'Code Produit', 'Dispo_alimentaire_kcal', 'Dispo_alimentaire_kg', 'Aliments pour animaux',\n",
    "  'Pertes', 'ratio_kcal', 'ratio_protein_%', 'Nourriture']]\n",
    "\n",
    "# on va creer 'total_vegetal_kcal' et la column 'total_vegetal_kg'\n",
    "# total_vegetal_kcal\n",
    "dispo_alimentaire_produit_vegetaux['Total_vegetal_kcal'] = dispo_alimentaire_produit_vegetaux['Aliments pour animaux']\\\n",
    "* 1000000 + dispo_alimentaire_produit_vegetaux['Pertes'] * 1000000 \\\n",
    "+ dispo_alimentaire_produit_vegetaux['Nourriture'] * 1000000\n",
    "\n",
    "# total_vegetal_kg\n",
    "dispo_alimentaire_produit_vegetaux['Total_vegetal_kg'] = dispo_alimentaire_produit_vegetaux['Aliments pour animaux']\\\n",
    "* 1000000 + dispo_alimentaire_produit_vegetaux['Pertes'] * 1000000\\\n",
    "+ dispo_alimentaire_produit_vegetaux['Nourriture'] * 1000000\n",
    "\n",
    "# calcul total produits en kcal pour chaque pays et produits\\\n",
    "dispo_alimentaire_produit_vegetaux['Total_produit_vegetal_en_kcal'] = dispo_alimentaire_produit_vegetaux['Total_vegetal_kcal']\\\n",
    "* dispo_alimentaire_produit_vegetaux['ratio_kcal'] + dispo_alimentaire_produit_vegetaux['Dispo_alimentaire_kcal']\n",
    "\n",
    "# calcul total produits en kg pour chaque pays et produits\n",
    "dispo_alimentaire_produit_vegetaux['Total_produit_vegetal_en_kg'] = dispo_alimentaire_produit_vegetaux['Total_vegetal_kg']\\\n",
    "* dispo_alimentaire_produit_vegetaux['ratio_protein_%'] / 100 + dispo_alimentaire_produit_vegetaux['Dispo_alimentaire_kg']\n",
    "\n",
    "# sum kcal\n",
    "total_produit_vegetal_kcal = dispo_alimentaire_produit_vegetaux.Total_produit_vegetal_en_kcal.sum()\n",
    "\n",
    "# sum protéin\n",
    "total_produit_vegetal_kg = dispo_alimentaire_produit_vegetaux.Total_produit_vegetal_en_kg.sum()"
   ]
  },
  {
   "cell_type": "markdown",
   "metadata": {},
   "source": [
    "##### 8 - 1 kcal"
   ]
  },
  {
   "cell_type": "code",
   "execution_count": 46,
   "metadata": {},
   "outputs": [
    {
     "name": "stdout",
     "output_type": "stream",
     "text": [
      "Si on ajoute à la disponibilité alimentaire de produits végétaux la nourriture végétale destinée aux animaux et les pertes, on pourrait satisfaire les besoins caloriques de 11.7 milliards de personnes soit 167.14 % de la population mondiale.\n"
     ]
    }
   ],
   "source": [
    "# population mondiale pouvant être nourrie avec les produits végétaux en kcal\n",
    "population_nourrir_kcal = total_produit_vegetal_kcal / (calorie_moyen * 365)\n",
    "\n",
    "# en pourcentage\n",
    "pourcentage_nourrir_population_kcal = ((population_nourrir_kcal) / (population_total)) * 100\n",
    "\n",
    "print(\"Si on ajoute à la disponibilité alimentaire de produits végétaux la nourriture végétale destinée aux animaux et les pertes, on pourrait satisfaire les besoins caloriques de\",\n",
    "      round(population_nourrir_kcal/1e9,2),\"milliards de personnes soit\",round(pourcentage_nourrir_population_kcal,2),\"% de la population mondiale.\")"
   ]
  },
  {
   "cell_type": "markdown",
   "metadata": {},
   "source": [
    "- remarque: avec disponibilité interieure ont à 235.85%"
   ]
  },
  {
   "cell_type": "markdown",
   "metadata": {},
   "source": [
    "##### 8 - 2 kg"
   ]
  },
  {
   "cell_type": "code",
   "execution_count": 47,
   "metadata": {},
   "outputs": [
    {
     "name": "stdout",
     "output_type": "stream",
     "text": [
      "Si on ajoute à la disponibilité alimentaire de produits végétaux la nourriture végétale destinée aux animaux et les pertes, on pourrait satisfaire les besoins en protéines de 12.62 milliards de personnes soit 180.35 % de la population mondiale.\n"
     ]
    }
   ],
   "source": [
    "# population mondiale pouvant être nourrie avec les produits végétaux en protéine (kg)\n",
    "population_nourrir_kg = total_produit_vegetal_kg / (protein_moyen * .001 * 365)\n",
    "\n",
    "# en pourcentage\n",
    "pourcentage_nourrir_population_kg = (population_nourrir_kg / population_total) * 100\n",
    "\n",
    "print(\"Si on ajoute à la disponibilité alimentaire de produits végétaux la nourriture végétale destinée aux animaux et les pertes, on pourrait satisfaire les besoins en protéines de\",\n",
    "      round(population_nourrir_kg/1e9,2),\"milliards de personnes soit\",round(pourcentage_nourrir_population_kg,2),\"% de la population mondiale.\")"
   ]
  },
  {
   "cell_type": "markdown",
   "metadata": {},
   "source": [
    "### Question 9\n",
    "\n",
    "Combien d'humains pourraient être nourris avec la disponibilité alimentaire mondiale ? \n",
    "\n",
    "Donnez les résultats en termes de calories, puis de protéines, et exprimez ensuite ces 2 résultats en pourcentage de la population mondiale."
   ]
  },
  {
   "cell_type": "markdown",
   "metadata": {},
   "source": [
    "##### 9 - 1 kcal"
   ]
  },
  {
   "cell_type": "code",
   "execution_count": 48,
   "metadata": {},
   "outputs": [
    {
     "name": "stdout",
     "output_type": "stream",
     "text": [
      "La disponibilité alimentaire mondiale pourrait combler les besoins caloriques de 8.97 milliards de personnes soit 128.14 % de la population mondiale.\n"
     ]
    }
   ],
   "source": [
    "# disponibilité alimentaire en kcal\n",
    "disponibilite_mondial_alimentaire_kcal = disponibilite_alimentaire_kcal_kg['Dispo_alimentaire_kcal'].sum()\n",
    "\n",
    "# population totale qui pourrait être nourrie\n",
    "population_total_nourrir_kcal = disponibilite_mondial_alimentaire_kcal / (calorie_moyen * 365)\n",
    "\n",
    "# en pourcentage\n",
    "pourcentage_kcal_nouriture = (population_total_nourrir_kcal / population_total) * 100\n",
    "\n",
    "print(\"La disponibilité alimentaire mondiale pourrait combler les besoins caloriques de\",\n",
    "      round(population_total_nourrir_kcal/1e9,2),\"milliards de personnes soit\",round(pourcentage_kcal_nouriture,2),\"% de la population mondiale.\")"
   ]
  },
  {
   "cell_type": "markdown",
   "metadata": {},
   "source": [
    "##### 9 - 2 en protéin (kg)"
   ]
  },
  {
   "cell_type": "code",
   "execution_count": 49,
   "metadata": {},
   "outputs": [
    {
     "name": "stdout",
     "output_type": "stream",
     "text": [
      "La disponibilité alimentaire mondiale pourrait combler les besoins en protéines de 10.32 milliards de personnes soit 147.55 % de la population mondiale.\n"
     ]
    }
   ],
   "source": [
    "# population totale pour nourrir en protéine\n",
    "# disponibilité alimentaire en protéine\n",
    "population_nourrir_protein = disponibilite_alimentaire_kcal_kg['Dispo_alimentaire_kg'].sum()\n",
    "\n",
    "# population totale qui pourrait être nourrie en protéine (kg)\n",
    "population_protein = population_nourrir_protein / (protein_moyen * .001 * 365)\n",
    "\n",
    "# en pourcentage\n",
    "protein_pourcentage = (population_protein / population_total) * 100\n",
    "\n",
    "print(\"La disponibilité alimentaire mondiale pourrait combler les besoins en protéines de\",\n",
    "      round(population_protein/1e9,2),\"milliards de personnes soit\",round(protein_pourcentage,2),\"% de la population mondiale.\")"
   ]
  },
  {
   "cell_type": "markdown",
   "metadata": {},
   "source": [
    "### Question 10\n",
    "\n",
    "A partir des données téléchargées qui concernent la sous-nutrition, répondez à cette question : Quelle proportion de la population mondiale est considérée comme étant en sous-nutrition ?"
   ]
  },
  {
   "cell_type": "code",
   "execution_count": 50,
   "metadata": {},
   "outputs": [
    {
     "data": {
      "text/html": [
       "<div>\n",
       "<style scoped>\n",
       "    .dataframe tbody tr th:only-of-type {\n",
       "        vertical-align: middle;\n",
       "    }\n",
       "\n",
       "    .dataframe tbody tr th {\n",
       "        vertical-align: top;\n",
       "    }\n",
       "\n",
       "    .dataframe thead th {\n",
       "        text-align: right;\n",
       "    }\n",
       "</style>\n",
       "<table border=\"1\" class=\"dataframe\">\n",
       "  <thead>\n",
       "    <tr style=\"text-align: right;\">\n",
       "      <th></th>\n",
       "      <th>Code Domaine</th>\n",
       "      <th>Domaine</th>\n",
       "      <th>Code zone</th>\n",
       "      <th>Zone</th>\n",
       "      <th>Code Élément</th>\n",
       "      <th>Élément</th>\n",
       "      <th>Code Produit</th>\n",
       "      <th>Produit</th>\n",
       "      <th>Code année</th>\n",
       "      <th>Année</th>\n",
       "      <th>Unité</th>\n",
       "      <th>Valeur</th>\n",
       "      <th>Symbole</th>\n",
       "      <th>Description du Symbole</th>\n",
       "      <th>Note</th>\n",
       "    </tr>\n",
       "  </thead>\n",
       "  <tbody>\n",
       "    <tr>\n",
       "      <th>0</th>\n",
       "      <td>FS</td>\n",
       "      <td>Données de la sécurité alimentaire</td>\n",
       "      <td>2</td>\n",
       "      <td>Afghanistan</td>\n",
       "      <td>6132</td>\n",
       "      <td>Valeur</td>\n",
       "      <td>210011</td>\n",
       "      <td>Nombre de personnes sous-alimentées (millions)...</td>\n",
       "      <td>20122014</td>\n",
       "      <td>2012-2014</td>\n",
       "      <td>millions</td>\n",
       "      <td>7.9</td>\n",
       "      <td>F</td>\n",
       "      <td>Estimation FAO</td>\n",
       "      <td>NaN</td>\n",
       "    </tr>\n",
       "    <tr>\n",
       "      <th>1</th>\n",
       "      <td>FS</td>\n",
       "      <td>Données de la sécurité alimentaire</td>\n",
       "      <td>2</td>\n",
       "      <td>Afghanistan</td>\n",
       "      <td>6132</td>\n",
       "      <td>Valeur</td>\n",
       "      <td>210011</td>\n",
       "      <td>Nombre de personnes sous-alimentées (millions)...</td>\n",
       "      <td>20132015</td>\n",
       "      <td>2013-2015</td>\n",
       "      <td>millions</td>\n",
       "      <td>8.8</td>\n",
       "      <td>F</td>\n",
       "      <td>Estimation FAO</td>\n",
       "      <td>NaN</td>\n",
       "    </tr>\n",
       "  </tbody>\n",
       "</table>\n",
       "</div>"
      ],
      "text/plain": [
       "  Code Domaine                             Domaine  Code zone         Zone  \\\n",
       "0           FS  Données de la sécurité alimentaire          2  Afghanistan   \n",
       "1           FS  Données de la sécurité alimentaire          2  Afghanistan   \n",
       "\n",
       "   Code Élément Élément  Code Produit  \\\n",
       "0          6132  Valeur        210011   \n",
       "1          6132  Valeur        210011   \n",
       "\n",
       "                                             Produit  Code année      Année  \\\n",
       "0  Nombre de personnes sous-alimentées (millions)...    20122014  2012-2014   \n",
       "1  Nombre de personnes sous-alimentées (millions)...    20132015  2013-2015   \n",
       "\n",
       "      Unité  Valeur Symbole Description du Symbole  Note  \n",
       "0  millions     7.9       F         Estimation FAO   NaN  \n",
       "1  millions     8.8       F         Estimation FAO   NaN  "
      ]
     },
     "execution_count": 50,
     "metadata": {},
     "output_type": "execute_result"
    }
   ],
   "source": [
    "df_sous_alimentation.head(2)"
   ]
  },
  {
   "cell_type": "code",
   "execution_count": 51,
   "metadata": {},
   "outputs": [
    {
     "name": "stdout",
     "output_type": "stream",
     "text": [
      "Sur l'année 2013, 10.63 % de la population mondiale était en sous-alimentation soit 743.7 millions de personnes.\n"
     ]
    }
   ],
   "source": [
    "# on avait observé des valeurs manquantes \n",
    "\n",
    "df_sous_alimentation['Valeur'].unique()\n",
    "\n",
    "# on enlève la valeur '<0.1'\n",
    "sous_alimentation_2013 = df_sous_alimentation[~df_sous_alimentation['Valeur'].isin(['<0.1'])]\n",
    "\n",
    "# pour le calcul, on utilise l'année 2012-2014\n",
    "sous_alimentation_2013 = df_sous_alimentation[df_sous_alimentation['Année'].str.contains('2012-2014')]\n",
    "\n",
    "# on utilise les données de la FAO\n",
    "sous_alimentation_2013 = sous_alimentation_2013[sous_alimentation_2013['Description du Symbole'] == 'Estimation FAO']\n",
    "\n",
    "# On renomme 'Valeur' en 'Sous_alimentés'\n",
    "sous_alimentation_2013.rename(columns={'Valeur': 'Sous_alimentes'}, inplace = True)\n",
    "#sous_alimentation_2013\n",
    "# On enlève les doublons de la Chine\n",
    "sous_alimentation_2013 = sous_alimentation_2013.loc[sous_alimentation_2013['Zone'] != 'Chine']\n",
    "\n",
    "# sum\n",
    "sous_nutrition_2013 = sous_alimentation_2013['Sous_alimentes'].sum()\n",
    "\n",
    "# en pourcentage\n",
    "# pourcentage de personne en sous-nutrition\n",
    "pourcentage_sous_noutrition_2013 = (sous_nutrition_2013 * 1000000) / (population_total) * 100\n",
    "\n",
    "print(\"Sur l'année 2013,\",round(pourcentage_sous_noutrition_2013, 2),\"% de la population mondiale était en sous-alimentation soit\",\n",
    "      round(sous_nutrition_2013, 2),\"millions de personnes.\")"
   ]
  },
  {
   "cell_type": "markdown",
   "metadata": {},
   "source": [
    "### Question 11\n",
    "\n",
    "En ne prenant en compte que les céréales destinées à l'alimentation (humaine et animale), quelle proportion (en termes de poids) est destinée à l'alimentation animale ?\n",
    "\n",
    "Établissez la liste des produits (ainsi que leur code) considéré comme des céréales selon la FAO.\n",
    "\n",
    "Repérez dans vos données les informations concernant les céréales (par exemple en créant une colonne de type booléen nommée \"is_cereal\")."
   ]
  },
  {
   "cell_type": "code",
   "execution_count": 52,
   "metadata": {},
   "outputs": [
    {
     "data": {
      "text/html": [
       "<div>\n",
       "<style scoped>\n",
       "    .dataframe tbody tr th:only-of-type {\n",
       "        vertical-align: middle;\n",
       "    }\n",
       "\n",
       "    .dataframe tbody tr th {\n",
       "        vertical-align: top;\n",
       "    }\n",
       "\n",
       "    .dataframe thead th {\n",
       "        text-align: right;\n",
       "    }\n",
       "</style>\n",
       "<table border=\"1\" class=\"dataframe\">\n",
       "  <thead>\n",
       "    <tr style=\"text-align: right;\">\n",
       "      <th></th>\n",
       "      <th>Code Domaine</th>\n",
       "      <th>Domaine</th>\n",
       "      <th>Code zone</th>\n",
       "      <th>Zone</th>\n",
       "      <th>Code Élément</th>\n",
       "      <th>Élément</th>\n",
       "      <th>Code Produit</th>\n",
       "      <th>Produit</th>\n",
       "      <th>Code année</th>\n",
       "      <th>Année</th>\n",
       "      <th>Unité</th>\n",
       "      <th>Valeur</th>\n",
       "      <th>Symbole</th>\n",
       "      <th>Description du Symbole</th>\n",
       "    </tr>\n",
       "  </thead>\n",
       "  <tbody>\n",
       "    <tr>\n",
       "      <th>0</th>\n",
       "      <td>FBSH</td>\n",
       "      <td>Bilans Alimentaire (Ancienne méthodologie et p...</td>\n",
       "      <td>2</td>\n",
       "      <td>Afghanistan</td>\n",
       "      <td>5511</td>\n",
       "      <td>Production</td>\n",
       "      <td>2511</td>\n",
       "      <td>Blé</td>\n",
       "      <td>2013</td>\n",
       "      <td>2013</td>\n",
       "      <td>Milliers de tonnes</td>\n",
       "      <td>5169</td>\n",
       "      <td>S</td>\n",
       "      <td>Données standardisées</td>\n",
       "    </tr>\n",
       "  </tbody>\n",
       "</table>\n",
       "</div>"
      ],
      "text/plain": [
       "  Code Domaine                                            Domaine  Code zone  \\\n",
       "0         FBSH  Bilans Alimentaire (Ancienne méthodologie et p...          2   \n",
       "\n",
       "          Zone  Code Élément     Élément  Code Produit Produit  Code année  \\\n",
       "0  Afghanistan          5511  Production          2511     Blé        2013   \n",
       "\n",
       "   Année               Unité  Valeur Symbole Description du Symbole  \n",
       "0   2013  Milliers de tonnes    5169       S  Données standardisées  "
      ]
     },
     "execution_count": 52,
     "metadata": {},
     "output_type": "execute_result"
    }
   ],
   "source": [
    "df_cereal.head(1)"
   ]
  },
  {
   "cell_type": "code",
   "execution_count": 53,
   "metadata": {},
   "outputs": [],
   "source": [
    "df_cereal['Code Produit'].unique()\n",
    "\n",
    "bool_cereal = disponibilite_alimentaire_kcal_kg.copy()\n",
    "\n",
    "# on va selectioner les codes dans la colonne 'Code Produit' pour faire une liste avec cette information\n",
    "code_cereal = ['2511', '2805', '2513', '2514', '2517', '2515', '2516', '2518', '2520']\n",
    "\n",
    "# on fait une fonction 'is_cereal'\n",
    "def is_cereal(arr):\n",
    "    if str(arr['Code Produit']) in code_cereal:\n",
    "        return True\n",
    "    return False\n",
    "\n",
    "# on ajoute la colonne 'is_cereal'\n",
    "bool_cereal['is_cereal'] = bool_cereal.apply(lambda arr: is_cereal(arr), axis=1)\n",
    "#bool_cereal.head()"
   ]
  },
  {
   "cell_type": "code",
   "execution_count": 54,
   "metadata": {},
   "outputs": [
    {
     "name": "stdout",
     "output_type": "stream",
     "text": [
      "45.91 % des céréales sont destinés à l'alimentation animale\n"
     ]
    }
   ],
   "source": [
    "cereal_animal = bool_cereal.loc[bool_cereal['is_cereal'] == True] # pour obtenir les céréales destinées à l'alimentation animale\n",
    "\n",
    "# proportion pour l'alimentation animale\n",
    "# sum des valeurs 'aliments pour animaux' et 'nourriture'\n",
    "cereal_pour_alimentation_animal = cereal_animal['Aliments pour animaux'].sum() + cereal_animal['Nourriture'].sum()\n",
    "\n",
    "# pourcentage pour l'alimentation animale\n",
    "pourcentage_alimentation_animal_en_cereal = cereal_animal['Aliments pour animaux'].sum()\n",
    "\n",
    "cereal_a_destination_animal = pourcentage_alimentation_animal_en_cereal / cereal_pour_alimentation_animal\n",
    "print('{} % des céréales sont destinés à l\\'alimentation animale'.format(round(cereal_a_destination_animal * 100, 2)))"
   ]
  },
  {
   "cell_type": "markdown",
   "metadata": {},
   "source": [
    "### Question 12\n",
    "\n",
    "Donnez les 3 produits qui on t la plus grande valeur pour chacun des 2 ratios (vous aurez donc 6 produits à citer)\n"
   ]
  },
  {
   "cell_type": "markdown",
   "metadata": {},
   "source": [
    "- 12-1 Repérez les 15 produits les plus exportés par ce groupe de pays."
   ]
  },
  {
   "cell_type": "code",
   "execution_count": 55,
   "metadata": {},
   "outputs": [
    {
     "name": "stdout",
     "output_type": "stream",
     "text": [
      "Les 15 produits le plus exporté par des pays en sous alimentation :\n",
      "39         Huile de Palme\n",
      "52                   Maïs\n",
      "51                 Manioc\n",
      "79       Riz (Eq Blanchi)\n",
      "83          Sucre Eq Brut\n",
      "12                    Blé\n",
      "49        Légumes, Autres\n",
      "8                 Bananes\n",
      "25         Fruits, Autres\n",
      "48     Lait - Excl Beurre\n",
      "81                   Soja\n",
      "73    Poissons Pelagiques\n",
      "89                Tomates\n",
      "75                 Pommes\n",
      "61    Oranges, Mandarines\n",
      "Name: Produit, dtype: object\n"
     ]
    }
   ],
   "source": [
    "# on realise une jointure interne avec le fichier sous-alimentation_2013\n",
    "sous_nutrition = pd.merge(disponibilite_alimentaire_kcal_kg, sous_alimentation_2013, on='Code zone', how='inner')\n",
    "sous_nutrition.head(1)\n",
    "\n",
    "# on renomme les colonnes\n",
    "sous_nutrition = sous_nutrition.rename(columns={'Zone_x': 'Zone', 'Produit_x': 'Produit',\n",
    "                                                'Autres utilisations (non alimentaire)': 'Autres utilisations'})\n",
    "\n",
    "# colonnes dont on a besoin\n",
    "list_colonnes = ['Zone', 'Produit', 'Sous_alimentes', 'Exportations - Quantité', 'Autres utilisations', 'Population',\n",
    "            'Importations - Quantité', 'Nourriture', 'Aliments pour animaux', 'Production', 'Disponibilité intérieure']\n",
    "\n",
    "sous_nutrition = sous_nutrition[list_colonnes]\n",
    "\n",
    "# on selectionne les pays en sous alimentation\n",
    "exportation_importation_par_pay = sous_nutrition.dropna(subset=['Sous_alimentes'])\n",
    "exportation_importation_par_pay.head()\n",
    "\n",
    "# les produits les plus exportés par les pays en sous alimentation\n",
    "produits_exporte = exportation_importation_par_pay[['Produit', 'Exportations - Quantité']]\\\n",
    ".groupby(by=['Produit']).sum().reset_index()\\\n",
    ".sort_values(by=['Exportations - Quantité'], ascending=False)\n",
    "les_15_produits_plus_exporte = produits_exporte.Produit[:15]\n",
    "print('Les 15 produits le plus exportés par des pays en sous alimentation :\\n{}'.format(les_15_produits_plus_exporte))"
   ]
  },
  {
   "cell_type": "markdown",
   "metadata": {},
   "source": [
    "- 12 - 2 Parmi les données des bilans alimentaires au niveau mondial, sélectionnez les 200 plus grandes importations de ces produits (1 importation = une quantité d'un produit donné importée par un pays donné)"
   ]
  },
  {
   "cell_type": "code",
   "execution_count": 56,
   "metadata": {},
   "outputs": [
    {
     "data": {
      "text/html": [
       "<div>\n",
       "<style scoped>\n",
       "    .dataframe tbody tr th:only-of-type {\n",
       "        vertical-align: middle;\n",
       "    }\n",
       "\n",
       "    .dataframe tbody tr th {\n",
       "        vertical-align: top;\n",
       "    }\n",
       "\n",
       "    .dataframe thead th {\n",
       "        text-align: right;\n",
       "    }\n",
       "</style>\n",
       "<table border=\"1\" class=\"dataframe\">\n",
       "  <thead>\n",
       "    <tr style=\"text-align: right;\">\n",
       "      <th></th>\n",
       "      <th>Zone</th>\n",
       "      <th>Produit</th>\n",
       "      <th>Sous_alimentes</th>\n",
       "      <th>Exportations - Quantité</th>\n",
       "      <th>Autres utilisations</th>\n",
       "      <th>Population</th>\n",
       "      <th>Importations - Quantité</th>\n",
       "      <th>Nourriture</th>\n",
       "      <th>Aliments pour animaux</th>\n",
       "      <th>Production</th>\n",
       "      <th>Disponibilité intérieure</th>\n",
       "    </tr>\n",
       "  </thead>\n",
       "  <tbody>\n",
       "    <tr>\n",
       "      <th>1865</th>\n",
       "      <td>Chine, continentale</td>\n",
       "      <td>Soja</td>\n",
       "      <td>136.6</td>\n",
       "      <td>250.0</td>\n",
       "      <td>NaN</td>\n",
       "      <td>1385567</td>\n",
       "      <td>63381.0</td>\n",
       "      <td>5072.0</td>\n",
       "      <td>9530.0</td>\n",
       "      <td>11951.0</td>\n",
       "      <td>75081.0</td>\n",
       "    </tr>\n",
       "    <tr>\n",
       "      <th>1852</th>\n",
       "      <td>Chine, continentale</td>\n",
       "      <td>Manioc</td>\n",
       "      <td>136.6</td>\n",
       "      <td>41.0</td>\n",
       "      <td>7940.0</td>\n",
       "      <td>1385567</td>\n",
       "      <td>29046.0</td>\n",
       "      <td>2645.0</td>\n",
       "      <td>22868.0</td>\n",
       "      <td>4585.0</td>\n",
       "      <td>33590.0</td>\n",
       "    </tr>\n",
       "    <tr>\n",
       "      <th>2663</th>\n",
       "      <td>Égypte</td>\n",
       "      <td>Blé</td>\n",
       "      <td>3.9</td>\n",
       "      <td>191.0</td>\n",
       "      <td>0.0</td>\n",
       "      <td>82056</td>\n",
       "      <td>10331.0</td>\n",
       "      <td>12048.0</td>\n",
       "      <td>4860.0</td>\n",
       "      <td>9460.0</td>\n",
       "      <td>19341.0</td>\n",
       "    </tr>\n",
       "    <tr>\n",
       "      <th>4132</th>\n",
       "      <td>Inde</td>\n",
       "      <td>Huile de Palme</td>\n",
       "      <td>216.3</td>\n",
       "      <td>143.0</td>\n",
       "      <td>6782.0</td>\n",
       "      <td>1252140</td>\n",
       "      <td>8568.0</td>\n",
       "      <td>1631.0</td>\n",
       "      <td>NaN</td>\n",
       "      <td>NaN</td>\n",
       "      <td>8413.0</td>\n",
       "    </tr>\n",
       "    <tr>\n",
       "      <th>1937</th>\n",
       "      <td>Chine, continentale</td>\n",
       "      <td>Lait - Excl Beurre</td>\n",
       "      <td>136.6</td>\n",
       "      <td>129.0</td>\n",
       "      <td>NaN</td>\n",
       "      <td>1385567</td>\n",
       "      <td>8207.0</td>\n",
       "      <td>45252.0</td>\n",
       "      <td>1608.0</td>\n",
       "      <td>40193.0</td>\n",
       "      <td>48271.0</td>\n",
       "    </tr>\n",
       "  </tbody>\n",
       "</table>\n",
       "</div>"
      ],
      "text/plain": [
       "                     Zone             Produit  Sous_alimentes  \\\n",
       "1865  Chine, continentale                Soja           136.6   \n",
       "1852  Chine, continentale              Manioc           136.6   \n",
       "2663               Égypte                 Blé             3.9   \n",
       "4132                 Inde      Huile de Palme           216.3   \n",
       "1937  Chine, continentale  Lait - Excl Beurre           136.6   \n",
       "\n",
       "      Exportations - Quantité  Autres utilisations  Population  \\\n",
       "1865                    250.0                  NaN     1385567   \n",
       "1852                     41.0               7940.0     1385567   \n",
       "2663                    191.0                  0.0       82056   \n",
       "4132                    143.0               6782.0     1252140   \n",
       "1937                    129.0                  NaN     1385567   \n",
       "\n",
       "      Importations - Quantité  Nourriture  Aliments pour animaux  Production  \\\n",
       "1865                  63381.0      5072.0                 9530.0     11951.0   \n",
       "1852                  29046.0      2645.0                22868.0      4585.0   \n",
       "2663                  10331.0     12048.0                 4860.0      9460.0   \n",
       "4132                   8568.0      1631.0                    NaN         NaN   \n",
       "1937                   8207.0     45252.0                 1608.0     40193.0   \n",
       "\n",
       "      Disponibilité intérieure  \n",
       "1865                   75081.0  \n",
       "1852                   33590.0  \n",
       "2663                   19341.0  \n",
       "4132                    8413.0  \n",
       "1937                   48271.0  "
      ]
     },
     "execution_count": 56,
     "metadata": {},
     "output_type": "execute_result"
    }
   ],
   "source": [
    "# les 200 plus grandes importations\n",
    "produit_importe = sous_nutrition.loc[sous_nutrition['Produit'].isin(les_15_produits_plus_exporte),]\\\n",
    ".sort_values(by=['Importations - Quantité'], ascending = False)[:200]\n",
    "produit_importe.head()"
   ]
  },
  {
   "cell_type": "markdown",
   "metadata": {},
   "source": [
    "- 12 - 3 Groupez ces importations par produit, afin d'avoir une table contenant 1 ligne pour chacun des 15 produits. Ensuite, calculez pour chaque produit les 2 quantités suivantes :\n",
    "\n",
    "- le ratio entre la quantité destinés aux \"Autres utilisations\" (Other uses) et la disponibilité intérieure.\n",
    "- le ratio entre la quantité destinée à la nourriture animale et la quantité destinée à la nourriture (animale + humaine)"
   ]
  },
  {
   "cell_type": "code",
   "execution_count": 57,
   "metadata": {},
   "outputs": [
    {
     "data": {
      "text/html": [
       "<div>\n",
       "<style scoped>\n",
       "    .dataframe tbody tr th:only-of-type {\n",
       "        vertical-align: middle;\n",
       "    }\n",
       "\n",
       "    .dataframe tbody tr th {\n",
       "        vertical-align: top;\n",
       "    }\n",
       "\n",
       "    .dataframe thead th {\n",
       "        text-align: right;\n",
       "    }\n",
       "</style>\n",
       "<table border=\"1\" class=\"dataframe\">\n",
       "  <thead>\n",
       "    <tr style=\"text-align: right;\">\n",
       "      <th></th>\n",
       "      <th>Produit</th>\n",
       "      <th>ratio_disponibilite_interieure</th>\n",
       "      <th>ratio_nourriture_animal</th>\n",
       "    </tr>\n",
       "  </thead>\n",
       "  <tbody>\n",
       "    <tr>\n",
       "      <th>0</th>\n",
       "      <td>Bananes</td>\n",
       "      <td>0.001473</td>\n",
       "      <td>0.000000</td>\n",
       "    </tr>\n",
       "    <tr>\n",
       "      <th>1</th>\n",
       "      <td>Blé</td>\n",
       "      <td>0.033573</td>\n",
       "      <td>0.170348</td>\n",
       "    </tr>\n",
       "    <tr>\n",
       "      <th>2</th>\n",
       "      <td>Fruits, Autres</td>\n",
       "      <td>0.000639</td>\n",
       "      <td>0.000000</td>\n",
       "    </tr>\n",
       "    <tr>\n",
       "      <th>3</th>\n",
       "      <td>Huile de Palme</td>\n",
       "      <td>0.676219</td>\n",
       "      <td>0.000000</td>\n",
       "    </tr>\n",
       "    <tr>\n",
       "      <th>4</th>\n",
       "      <td>Lait - Excl Beurre</td>\n",
       "      <td>0.012760</td>\n",
       "      <td>0.036040</td>\n",
       "    </tr>\n",
       "  </tbody>\n",
       "</table>\n",
       "</div>"
      ],
      "text/plain": [
       "              Produit  ratio_disponibilite_interieure  ratio_nourriture_animal\n",
       "0             Bananes                        0.001473                 0.000000\n",
       "1                 Blé                        0.033573                 0.170348\n",
       "2      Fruits, Autres                        0.000639                 0.000000\n",
       "3      Huile de Palme                        0.676219                 0.000000\n",
       "4  Lait - Excl Beurre                        0.012760                 0.036040"
      ]
     },
     "execution_count": 57,
     "metadata": {},
     "output_type": "execute_result"
    }
   ],
   "source": [
    "ratios = produit_importe[['Zone', 'Produit', 'Autres utilisations', 'Aliments pour animaux', 'Disponibilité intérieure', 'Nourriture']]\n",
    "\n",
    "# on le regroupe par produits\n",
    "ratio_sous_alimentation = ratios.groupby('Produit').sum().reset_index()\n",
    "ratio_sous_alimentation.head()\n",
    "\n",
    "# calculs pour chacun des ratios\n",
    "# ratio destiné aux autres utilisations et dispo intérieure\n",
    "ratio_sous_alimentation['ratio_disponibilite_interieure'] = (ratio_sous_alimentation['Autres utilisations']\\\n",
    "                                                            / ratio_sous_alimentation['Disponibilité intérieure'])\n",
    "\n",
    "# ratio nourriture animale et nourriture mondiale\n",
    "ratio_sous_alimentation['ratio_nourriture_animal'] = (ratio_sous_alimentation['Aliments pour animaux']\\\n",
    "                                                     / (ratio_sous_alimentation['Aliments pour animaux']\\\n",
    "                                                        + ratio_sous_alimentation['Nourriture']))\n",
    "\n",
    "ratio_sous_alimentation = ratio_sous_alimentation[['Produit', 'ratio_disponibilite_interieure', 'ratio_nourriture_animal']]\n",
    "ratio_sous_alimentation.head()"
   ]
  },
  {
   "cell_type": "markdown",
   "metadata": {},
   "source": [
    "- 12 - 3 Donnez les 3 produits qui ont la plus grande valeur pour chacun des 2 ratios (vous aurez donc 6 produits à citer)"
   ]
  },
  {
   "cell_type": "code",
   "execution_count": 58,
   "metadata": {},
   "outputs": [
    {
     "name": "stdout",
     "output_type": "stream",
     "text": [
      "Les produits importés par les pays victimes de sous_alimentation qui ont le ratio autres utilisation/disponibilité interieure le plus élevé sont :\n",
      "3    Huile de Palme\n",
      "6            Manioc\n",
      "7              Maïs\n",
      "Name: Produit, dtype: object\n"
     ]
    }
   ],
   "source": [
    "# 3 produits avec une grande valeur pour le ratio 1\n",
    "top3_ratio_par_produit = ratio_sous_alimentation[['Produit', 'ratio_disponibilite_interieure']]\\\n",
    ".sort_values('ratio_disponibilite_interieure', ascending=False)[:3]\n",
    "print('Les produits importés par les pays victimes de sous_alimentation qui ont le ratio autres utilisation/disponibilité interieure le plus élevé sont :\\n{}'\\\n",
    "      .format(top3_ratio_par_produit['Produit']))"
   ]
  },
  {
   "cell_type": "code",
   "execution_count": 59,
   "metadata": {},
   "outputs": [
    {
     "name": "stdout",
     "output_type": "stream",
     "text": [
      "Les produits importés par les pays victimes de sous-alimentation qui ont le ratio nourriture animale/nourriture globale le plus élevé sont :\n",
      "7                    Maïs\n",
      "9     Poissons Pelagiques\n",
      "12                   Soja\n",
      "Name: Produit, dtype: object\n"
     ]
    }
   ],
   "source": [
    "# top 3 des ratios avec la plus grande valeur par produit pour la nourriture animale\n",
    "top3_ratio_pour_nourriture_animal = ratio_sous_alimentation[['Produit', 'ratio_nourriture_animal']]\\\n",
    ".sort_values('ratio_nourriture_animal', ascending=False)[:3]\n",
    "print('Les produits importés par les pays victimes de sous-alimentation qui ont le ratio nourriture animale/nourriture globale le plus élevé sont :\\n{}'\\\n",
    "      .format(top3_ratio_pour_nourriture_animal['Produit']))"
   ]
  },
  {
   "cell_type": "markdown",
   "metadata": {},
   "source": [
    "### Question 13\n",
    "\n",
    "Combien de tonnes de céréales pourraient être libérées si les USA diminuaient leur production de produits animaux de 10% ?"
   ]
  },
  {
   "cell_type": "code",
   "execution_count": 60,
   "metadata": {},
   "outputs": [
    {
     "name": "stdout",
     "output_type": "stream",
     "text": [
      "Moins 10 % de la production des produits animaux, Les États-Unis pourraient libérer 14.84 ktonnes des céréales.\n"
     ]
    }
   ],
   "source": [
    "# on choisit seulement les données des USA\n",
    "cereal_usa = bool_cereal.loc[bool_cereal['Zone'] == 'États-Unis d\\'Amérique']\n",
    "\n",
    "# somme de la production animale aux États-Unis\n",
    "production_animal_usa = cereal_usa['Aliments pour animaux'].sum()\n",
    "\n",
    "print('Moins 10 % de la production des produits animaux, Les États-Unis pourraient libérer {}'\\\n",
    "     .format(round((production_animal_usa * .1) / 1000, 2)), 'ktonnes des céréales.')"
   ]
  },
  {
   "cell_type": "markdown",
   "metadata": {},
   "source": [
    "### Question 14\n",
    "\n",
    "En Thaïlande, quelle proportion de manioc est exportée ? Quelle est la proportion de personnes en sous-nutrition?"
   ]
  },
  {
   "cell_type": "code",
   "execution_count": 61,
   "metadata": {},
   "outputs": [
    {
     "name": "stdout",
     "output_type": "stream",
     "text": [
      "La proportion exporté en pourcentage du produit Manioc est : [83.41] %\n",
      "----------------------------------------\n",
      "Proportion en pourcentage de la population qui est sous alimenté en Thailande est de [8.36] %\n"
     ]
    }
   ],
   "source": [
    "# on va choisir le produit manioc et le pays Thaïlande\n",
    "manioc = sous_nutrition.loc[(sous_nutrition['Zone'] == 'Thaïlande') & (sous_nutrition['Produit'] == 'Manioc')]\n",
    "\n",
    "# proportion du produit manioc exporté\n",
    "proportion_manioc_exporte = manioc['Exportations - Quantité'] / manioc['Production']\n",
    "proportion_manioc_exporte = round(proportion_manioc_exporte * 100, 2)\n",
    "print('La proportion exportée en pourcentage du produit Manioc est : {}'.format(proportion_manioc_exporte.to_list()), '%')\n",
    "\n",
    "print('-'*40)\n",
    "\n",
    "# proportion de la population en Thaïlande qui est en sous alimentation.\n",
    "proportion_thailande_sous_alimentation = (manioc['Sous_alimentes'] / manioc['Population']) * 1000\n",
    "proportion_thailande_sous_alimentation = round(proportion_thailande_sous_alimentation * 100, 2)\n",
    "\n",
    "print('Proportion en pourcentage de la population qui est sous alimentée en Thaïlande est de {}'\\\n",
    "       .format(proportion_thailande_sous_alimentation.to_list()), '%')"
   ]
  },
  {
   "cell_type": "code",
   "execution_count": null,
   "metadata": {},
   "outputs": [],
   "source": []
  },
  {
   "cell_type": "code",
   "execution_count": null,
   "metadata": {},
   "outputs": [],
   "source": []
  },
  {
   "cell_type": "code",
   "execution_count": null,
   "metadata": {},
   "outputs": [],
   "source": []
  },
  {
   "cell_type": "code",
   "execution_count": null,
   "metadata": {},
   "outputs": [],
   "source": []
  },
  {
   "cell_type": "code",
   "execution_count": null,
   "metadata": {},
   "outputs": [],
   "source": []
  },
  {
   "cell_type": "code",
   "execution_count": null,
   "metadata": {},
   "outputs": [],
   "source": []
  },
  {
   "cell_type": "code",
   "execution_count": null,
   "metadata": {},
   "outputs": [],
   "source": []
  },
  {
   "cell_type": "code",
   "execution_count": null,
   "metadata": {},
   "outputs": [],
   "source": []
  },
  {
   "cell_type": "code",
   "execution_count": null,
   "metadata": {},
   "outputs": [],
   "source": []
  },
  {
   "cell_type": "code",
   "execution_count": null,
   "metadata": {},
   "outputs": [],
   "source": []
  },
  {
   "cell_type": "code",
   "execution_count": null,
   "metadata": {},
   "outputs": [],
   "source": []
  },
  {
   "cell_type": "code",
   "execution_count": null,
   "metadata": {},
   "outputs": [],
   "source": []
  },
  {
   "cell_type": "code",
   "execution_count": null,
   "metadata": {},
   "outputs": [],
   "source": []
  },
  {
   "cell_type": "code",
   "execution_count": null,
   "metadata": {},
   "outputs": [],
   "source": []
  },
  {
   "cell_type": "code",
   "execution_count": null,
   "metadata": {},
   "outputs": [],
   "source": []
  },
  {
   "cell_type": "code",
   "execution_count": null,
   "metadata": {},
   "outputs": [],
   "source": []
  },
  {
   "cell_type": "code",
   "execution_count": null,
   "metadata": {},
   "outputs": [],
   "source": []
  },
  {
   "cell_type": "code",
   "execution_count": null,
   "metadata": {},
   "outputs": [],
   "source": []
  },
  {
   "cell_type": "code",
   "execution_count": null,
   "metadata": {},
   "outputs": [],
   "source": []
  },
  {
   "cell_type": "code",
   "execution_count": null,
   "metadata": {},
   "outputs": [],
   "source": []
  },
  {
   "cell_type": "code",
   "execution_count": null,
   "metadata": {},
   "outputs": [],
   "source": []
  },
  {
   "cell_type": "code",
   "execution_count": null,
   "metadata": {},
   "outputs": [],
   "source": []
  },
  {
   "cell_type": "code",
   "execution_count": null,
   "metadata": {},
   "outputs": [],
   "source": []
  },
  {
   "cell_type": "code",
   "execution_count": null,
   "metadata": {},
   "outputs": [],
   "source": []
  },
  {
   "cell_type": "code",
   "execution_count": null,
   "metadata": {},
   "outputs": [],
   "source": []
  },
  {
   "cell_type": "code",
   "execution_count": null,
   "metadata": {},
   "outputs": [],
   "source": []
  },
  {
   "cell_type": "code",
   "execution_count": null,
   "metadata": {},
   "outputs": [],
   "source": []
  },
  {
   "cell_type": "code",
   "execution_count": null,
   "metadata": {},
   "outputs": [],
   "source": []
  }
 ],
 "metadata": {
  "kernelspec": {
   "display_name": "Python 3",
   "language": "python",
   "name": "python3"
  },
  "language_info": {
   "codemirror_mode": {
    "name": "ipython",
    "version": 3
   },
   "file_extension": ".py",
   "mimetype": "text/x-python",
   "name": "python",
   "nbconvert_exporter": "python",
   "pygments_lexer": "ipython3",
   "version": "3.8.5"
  }
 },
 "nbformat": 4,
 "nbformat_minor": 4
}
